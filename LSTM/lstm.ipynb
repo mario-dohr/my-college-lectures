{
 "cells": [
  {
   "cell_type": "code",
   "execution_count": 1,
   "metadata": {
    "collapsed": true,
    "pycharm": {
     "name": "#%%\n"
    }
   },
   "outputs": [],
   "source": [
    "import pandas as pd\n",
    "import torch\n",
    "import numpy as np"
   ]
  },
  {
   "cell_type": "code",
   "execution_count": 2,
   "outputs": [
    {
     "data": {
      "text/plain": "tensor([[8.8542e-02, 1.0156e-01, 8.8542e-02, 9.7222e-02],\n        [9.7222e-02, 1.0243e-01, 9.7222e-02, 1.0069e-01],\n        [1.0069e-01, 1.0330e-01, 1.0069e-01, 1.0243e-01],\n        ...,\n        [2.8890e+02, 2.8925e+02, 2.8556e+02, 2.8615e+02],\n        [2.8208e+02, 2.8246e+02, 2.7722e+02, 2.7775e+02],\n        [2.7644e+02, 2.7886e+02, 2.7540e+02, 2.7644e+02]], dtype=torch.float64)"
     },
     "execution_count": 2,
     "metadata": {},
     "output_type": "execute_result"
    }
   ],
   "source": [
    "data = pd.read_csv('MSFT.csv')\n",
    "data_tensor = torch.tensor(data.to_numpy()[:,1:5].astype(float))\n",
    "data_tensor"
   ],
   "metadata": {
    "collapsed": false,
    "pycharm": {
     "name": "#%%\n"
    }
   }
  },
  {
   "cell_type": "code",
   "execution_count": null,
   "outputs": [],
   "source": [],
   "metadata": {
    "collapsed": false,
    "pycharm": {
     "name": "#%%\n"
    }
   }
  }
 ],
 "metadata": {
  "kernelspec": {
   "display_name": "Python 3",
   "language": "python",
   "name": "python3"
  },
  "language_info": {
   "codemirror_mode": {
    "name": "ipython",
    "version": 2
   },
   "file_extension": ".py",
   "mimetype": "text/x-python",
   "name": "python",
   "nbconvert_exporter": "python",
   "pygments_lexer": "ipython2",
   "version": "2.7.6"
  }
 },
 "nbformat": 4,
 "nbformat_minor": 0
}