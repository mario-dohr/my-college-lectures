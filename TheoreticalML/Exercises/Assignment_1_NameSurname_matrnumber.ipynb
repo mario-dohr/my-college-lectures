{
 "cells": [
  {
   "cell_type": "markdown",
   "metadata": {
    "tags": [
     "title"
    ]
   },
   "source": [
    "<h1 style=\"color:rgb(0,120,170)\">Assignment 1: Fisher Information, CRLB</h1>"
   ]
  },
  {
   "cell_type": "markdown",
   "metadata": {
    "tags": [
     "copyright"
    ]
   },
   "source": [
    "This material, no matter whether in printed or electronic form, may be used for personal and non-commercial educational use only. Any reproduction of this material, no matter whether as a whole or in parts, no matter whether in printed or in electronic form, requires explicit prior acceptance of the authors."
   ]
  },
  {
   "cell_type": "markdown",
   "metadata": {
    "tags": [
     "guidelines"
    ]
   },
   "source": [
    "<h2 style=\"color:rgb(0,120,170)\">Automatic Testing Guidelines</h2>\n",
    "\n",
    "Automatic unittesting requires you to submit a notebook which contains strictly defined objects.\n",
    "Strictness of definition consists of unified shapes, dtypes, variable names and more.\n",
    "\n",
    "Within the notebook, we provide detailed instruction which you should follow in order to maximise your final grade.\n",
    "\n",
    "**Name your notebook properly**, follow the pattern in the template name:\n",
    "\n",
    "**Assignment_N_NameSurname_matrnumber**\n",
    "<ol>\n",
    "    <li>N - number of assignment</li>\n",
    "    <li>NameSurname - your full name where every part of the name starts with a capital letter, no spaces</li>\n",
    "    <li>matrnumber - you student number on ID card (without k, potenitially with a leading zero)</li>\n",
    "</ol>\n",
    "\n",
    "Don't add any cells but use the ones provided by us. You may notice that all cells are tagged such that the unittest routine can recognise them. Before you sumbit your solution, make sure every cell has its (correct) tag!\n",
    "\n",
    "You can implement helper functions where needed unless you put them in the same cell they are actually called. Always make sure that implemented functions have the correct output and given variables contain the correct data type. In the descriptions for every function you can find information on what datatype an output should have and you should stick to that in order to minimize conflicts with the unittest. Don't import any other packages than listed in the cell with the \"imports\" tag.\n",
    "\n",
    "Questions are usually multiple choice (except the task description says otherwise) and can be answered by changing the given variables to either \"True\" or \"False\". \"None\" is counted as a wrong answer in any case!\n",
    "\n",
    "**Note:** Never use variables you defined in another cell in your functions directly; always pass them to the function as a parameter. In the unitest, they won't be available either. If you want to make sure that everything is executable for the unittest, try executing cells/functions individually (instead of running the whole notebook)."
   ]
  },
  {
   "cell_type": "markdown",
   "metadata": {
    "tags": [
     "title1"
    ]
   },
   "source": [
    "<h2 style=\"color:rgb(0,120,170)\">Task 1: Explicit computations regarding the Fisher information</h2>"
   ]
  },
  {
   "cell_type": "markdown",
   "metadata": {
    "tags": [
     "task1.1"
    ]
   },
   "source": [
    "<h3 style=\"color:rgb(0,120,170)\">Task 1.1:</h3>\n",
    "\n",
    "We are given a random variable $X$ with pmf (probability mass function)\n",
    "\\begin{align*}\n",
    "f(x ; p) &= p^x(1-p)^{1-x} , \\\\\n",
    "\\end{align*}\n",
    "where $0 \\leq p \\leq 1$ is the parameter and the support is $x \\in \\{0,1\\}$. \n",
    "\n",
    "* What is the name of the distribution to which the pdf belongs?\n",
    "* Calculate the Fisher information. Assume this distribution fulfills all the required regularity conditions, i.e. you can use the following formula:\n",
    "\\begin{align*}\n",
    "I_F(p) &= -\\mathbb{E}_X \\Big[ \\frac{d^2}{dp^2} \\ln f(x ; p) \\Big]  \\ .\n",
    "\\end{align*}"
   ]
  },
  {
   "cell_type": "markdown",
   "metadata": {
    "tags": [
     "calculation1"
    ]
   },
   "source": [
    "<h3 style=\"color:rgb(210,90,80)\">Calculation 1.1 (20 points):</h3>\n",
    "\n",
    "Your solution here."
   ]
  },
  {
   "cell_type": "markdown",
   "metadata": {
    "tags": [
     "task1.2"
    ]
   },
   "source": [
    "<h3 style=\"color:rgb(0,120,170)\">Task 1.2:</h3>\n",
    "\n",
    "Suppose we draw $n$ i.i.d samples  $\\{x_1, \\ldots, x_n \\}$ from the above random variable $X$. Then the likelihood is\n",
    "\\begin{align*}\n",
    "f(\\{x_1, \\ldots, x_n \\}; p) &= \\prod^n_{i=1} f(x_i; p) = \\prod^n_{i=1} p^{x_i}(1-p)^{1-{x_i}} \\ . \\\\\n",
    "\\end{align*}\n",
    "\n",
    "* Calculate the Fisher Information, that is, assuming regularity, calculate \n",
    "\\begin{align*}\n",
    "I_F(p) &= - \\mathbb{E}_X \\Big[ \\frac{\\partial^2}{\\partial p^2} \\ln f(\\{x_1, \\ldots, x_n \\}; p) \\Big] \\ .\n",
    "\\end{align*}"
   ]
  },
  {
   "cell_type": "markdown",
   "metadata": {
    "tags": [
     "calculation2"
    ]
   },
   "source": [
    "<h3 style=\"color:rgb(210,90,80)\">Calculation 1.2 (10 points):</h3>\n",
    "    \n",
    "Your solution here."
   ]
  },
  {
   "cell_type": "markdown",
   "metadata": {
    "tags": [
     "task1.3"
    ]
   },
   "source": [
    "<h3 style=\"color:rgb(0,120,170)\">Task 1.3:</h3>\n",
    "\n",
    "We are given a random variable $X$ with pmf\n",
    "\\begin{align*}\n",
    "p(x ; \\lambda) &= \\frac{\\lambda^x}{x!} e^{-\\lambda} \\ , \\\\ \n",
    "\\end{align*}\n",
    "where $\\lambda$ is the parameter and the support is $x \\in \\mathbb{N} \\cup 0$.\n",
    "\n",
    "* What is the name of the distribution to which the pdf belongs?\n",
    "* Calculate the Fisher information. Assume this distribution fulfills all the required regularity conditions, i.e. you can use the following formula:\n",
    "\\begin{align*}\n",
    "I_F(\\lambda) &= -\\mathbb{E}_X \\Big[ \\frac{d^2}{d \\lambda^2} \\ln p(x ; \\lambda) \\Big] \\ .\n",
    "\\end{align*}"
   ]
  },
  {
   "cell_type": "markdown",
   "metadata": {
    "tags": [
     "calculation3"
    ]
   },
   "source": [
    "<h3 style=\"color:rgb(210,90,80)\">Calculation 1.3 (10 points):</h3>\n",
    "    \n",
    "Your solution here."
   ]
  },
  {
   "cell_type": "markdown",
   "metadata": {
    "tags": [
     "task1.4"
    ]
   },
   "source": [
    "<h3 style=\"color:rgb(0,120,170)\">Task 1.4:</h3>\n",
    "\n",
    "Suppose we draw $n$ i.i.d samples  $\\{x_1, \\ldots, x_n \\}$ from the above random variable $X$. Then the Likelihood is\n",
    "\\begin{align*}\n",
    "p(\\{x_1, \\ldots, x_n \\}; \\lambda) &= \\prod^n_{i=1} p(x_i; \\lambda) = \\prod^n_{i=1} \\frac{\\lambda^{x_i}}{x_i!} e^{-\\lambda} \\ .\\\\\n",
    "\\end{align*}\n",
    "\n",
    "Calculate the Fisher Information, that is, calculate \n",
    "\\begin{align*}\n",
    "I_F(\\lambda) &= - \\mathbb{E}_X \\Big[\\frac{\\partial^2}{\\partial \\lambda^2} \\ln p(\\{x_1, \\ldots, x_n \\}; \\lambda) \\Big] \\ .\n",
    "\\end{align*}"
   ]
  },
  {
   "cell_type": "markdown",
   "metadata": {
    "tags": [
     "calculation4"
    ]
   },
   "source": [
    "<h3 style=\"color:rgb(210,90,80)\">Calculation 1.4 (10 points):</h3>\n",
    "\n",
    "Your solution here."
   ]
  },
  {
   "cell_type": "markdown",
   "metadata": {
    "tags": [
     "title2"
    ]
   },
   "source": [
    "<h2 style=\"color:rgb(0,120,170)\">Task 2: Implementation of Fisher Information </h2>"
   ]
  },
  {
   "cell_type": "markdown",
   "metadata": {
    "tags": [
     "task2.1"
    ]
   },
   "source": [
    "<h3 style=\"color:rgb(0,120,170)\">Task 2.1:</h3>\n",
    "\n",
    "We are going to take a look at two different estimators for the population variance.\n",
    "Write a function that draws $n$ samples from a Gaussian distribution with mean $\\mu=5$ and variance $\\sigma^2=4$. \n",
    "Then, calculate the variance of your sample using the following two \n",
    "estimators ($\\bar{x}$ denotes the sample mean of the data):\n",
    "\n",
    "\\begin{align*}\n",
    "   (\\textrm{A}) \\quad \\hat{\\sigma}^2_\\textrm{A} &= \\frac{1}{n-1}\\sum_i (\\bar{x} - x_i)^2, \\\\\n",
    "   (\\textrm{B}) \\quad \\hat{\\sigma}^2_\\textrm{B} &= \\frac{1}{n}\\sum_i (\\bar{x} - x_i)^2.\n",
    "\\end{align*}\n",
    "\n",
    "For $n_{\\text{iter}}=10000$ iterations, draw $n$ new samples each iteration, and keep track of the mean and variance of both estimators. Don't get confused: we want you to calculate the variance of the estimates of the variance :). \n",
    "Do this for $n$ = 10 and $n$ = 1000.\n",
    " \n",
    "Hint: the Fisher Information Matrix for a sample of size $n$ of a Gaussian distribution is (first diagonal entry for parameter mean $\\mu$, second diagonal entry for parameter variance $\\sigma^2$):\n",
    "\\begin{align*}\n",
    "I_F = \\left(\n",
    "    \\begin{array}{cc}\n",
    "    \\frac{n}{\\sigma^2} & 0 \\\\\n",
    "    0 & \\frac{n}{2 \\sigma^4} \\end{array} \\right) .\n",
    "\\end{align*}\n",
    "\n",
    "1. Implement the function `sample` that returns $n$ samples drawn from the Gaussian distribution explained above, where $n$ is a parameter that must be passed to the function.\n",
    "2. Implement the functions `varA` and `varB` which represent the estimators explained above.\n",
    "3. Implement the function `update_running_mean` to update the different means after every iteration.\n",
    "4. Implement the function `crlb` which calculates the Cramér-Rao lower bound (CRLB) for the estimator of the variance $\\sigma^2$ as a function of $n$ and $\\sigma$. Compute the CRLB for both values of $n$."
   ]
  },
  {
   "cell_type": "markdown",
   "metadata": {
    "tags": [
     "c2.1"
    ]
   },
   "source": [
    "<h3 style=\"color:rgb(208,90,80)\">Code 2.1 (20 points)</h3>"
   ]
  },
  {
   "cell_type": "code",
   "execution_count": null,
   "metadata": {
    "tags": [
     "imports"
    ]
   },
   "outputs": [],
   "source": [
    "import numpy as np\n",
    "from numpy.random import normal\n",
    "import matplotlib.pyplot as plt\n",
    "np.random.seed(1234)"
   ]
  },
  {
   "cell_type": "code",
   "execution_count": null,
   "metadata": {
    "tags": [
     "code1"
    ]
   },
   "outputs": [],
   "source": [
    "\"\"\"\n",
    "Function that draws a sample from a Gaussian distrubtion with specific parameters\n",
    "@param mu, float, mean\n",
    "@param sigma, float, standard deviation\n",
    "@param n, int, number of samples\n",
    "\n",
    "@output x, numpy.dtype[float64], randomly drawn samples\n",
    "\"\"\"\n",
    "def sample(mu,sigma,n):\n",
    "\n",
    "    raise NotImplementedError(\"You have not implemented this function.\")\n",
    "    return x"
   ]
  },
  {
   "cell_type": "code",
   "execution_count": null,
   "metadata": {
    "tags": [
     "code2"
    ]
   },
   "outputs": [],
   "source": [
    "\"\"\"\n",
    "Function that represents the estimator (A)\n",
    "@param x, numpy.dtype[float64], sample\n",
    "\n",
    "@output ret, numpy.dtype[float64], calculated variance\n",
    "\"\"\"\n",
    "def varA(x):\n",
    " \n",
    "    raise NotImplementedError(\"You have not implemented this function.\")\n",
    "    return ret"
   ]
  },
  {
   "cell_type": "code",
   "execution_count": null,
   "metadata": {
    "tags": [
     "code3"
    ]
   },
   "outputs": [],
   "source": [
    "\"\"\"\n",
    "Function that represents the estimator (B)\n",
    "@param x, numpy.dtype[float64], sample\n",
    "\n",
    "@output ret, numpy.dtype[float64], calculated variance\n",
    "\"\"\"\n",
    "def varB(x):\n",
    " \n",
    "    raise NotImplementedError(\"You have not implemented this function.\")\n",
    "    return ret"
   ]
  },
  {
   "cell_type": "code",
   "execution_count": null,
   "metadata": {
    "tags": [
     "code4"
    ]
   },
   "outputs": [],
   "source": [
    "\"\"\"\n",
    "Function that helps to calculate the running mean\n",
    "@param curr_mu, numpy.dtype[float64], current mean\n",
    "@param mu, numpy.dtype[float64], new value\n",
    "@param N, int, counter\n",
    "\n",
    "@output ret, numpy.dtype[float64], new mean\n",
    "\"\"\"\n",
    "def update_running_mean(curr_mu, mu, N):\n",
    "\n",
    "    raise NotImplementedError(\"You have not implemented this function.\")\n",
    "    return ret"
   ]
  },
  {
   "cell_type": "code",
   "execution_count": null,
   "metadata": {
    "tags": [
     "code5"
    ]
   },
   "outputs": [],
   "source": [
    "\"\"\"\n",
    "Function that calculates the Cramer-Rao lower bound\n",
    "@param n, int, sample size\n",
    "@param sigma, float, standard deviation\n",
    "\n",
    "@output ret, float, cramer rao lower bound\n",
    "\"\"\"\n",
    "def crlb(n,sigma):\n",
    "\n",
    "    raise NotImplementedError(\"You have not implemented this function.\")\n",
    "    return ret"
   ]
  },
  {
   "cell_type": "code",
   "execution_count": null,
   "metadata": {
    "tags": [
     "exec_code5"
    ]
   },
   "outputs": [],
   "source": [
    "print(crlb(10,2))\n",
    "print(crlb(1000,2))"
   ]
  },
  {
   "cell_type": "markdown",
   "metadata": {
    "tags": [
     "task2.2"
    ]
   },
   "source": [
    "<h3 style=\"color:rgb(0,120,170)\">Task 2.2:</h3>\n",
    "\n",
    "5. Implement the function `run` that iteratively draws new samples, updates the running mean and keeps track of both mean and variances of the estimators (for $n_\\text{iter}=10000$ iterations). For both values of $n$, plot the expectation and the variance of the estimators $\\hat{\\sigma}^2_\\textrm{A}, \\hat{\\sigma}^2_\\textrm{B}$ versus the iteration number (1 to $n_\\text{iter}$), and report the final values after all iterations."
   ]
  },
  {
   "cell_type": "markdown",
   "metadata": {
    "tags": [
     "c2.2"
    ]
   },
   "source": [
    "<h3 style=\"color:rgb(208,90,80)\">Code 2.2 (20 points)</h3>"
   ]
  },
  {
   "cell_type": "code",
   "execution_count": null,
   "metadata": {
    "tags": [
     "code6"
    ]
   },
   "outputs": [],
   "source": [
    "\"\"\"\n",
    "Function that runs the experiment \"n_iter\" times\n",
    "@param n, int, sample size\n",
    "@param n_iter, int, number of iterations\n",
    "@param mu, float, mean\n",
    "@param sigma, float, standard deviation\n",
    "\n",
    "@output mean_varA, list of numpy.dtype[float64], means of estimator (A)\n",
    "@output mean_varB, list of numpy.dtype[float64], means of estimator (B)\n",
    "@output var_varA, list of numpy.dtype[float64], variances of estimator (A)\n",
    "@output var_varB, list of numpy.dtype[float64], variances of estimator (B)\n",
    "@output EA, numpy.dtype[float64], running mean of estimator (A)\n",
    "@output EB, numpy.dtype[float64], running mean of estimator (B)\n",
    "@output EsqA, numpy.dtype[float64], squared expecation of estimator (A)\n",
    "@output EsqB, numpy.dtype[float64], squared expecation of estimator (B)\n",
    "\"\"\"\n",
    "def run(n,n_iter = 10000,mu=5,sigma=2):\n",
    "    mean_varA = []; mean_varB = []\n",
    "    var_varA = []; var_varB = []\n",
    "    EA = 0; EB = 0; EsqA = 0; EsqB = 0; # running mean and squared expectation \n",
    " \n",
    "    raise NotImplementedError(\"You have not implemented this function.\")\n",
    "    return mean_varA,mean_varB, var_varA, var_varB, EA,EB,EsqA,EsqB"
   ]
  },
  {
   "cell_type": "markdown",
   "metadata": {
    "tags": [
     "plots"
    ]
   },
   "source": [
    "Your plots go in the next cell:"
   ]
  },
  {
   "cell_type": "code",
   "execution_count": null,
   "metadata": {
    "tags": [
     "all_plots"
    ]
   },
   "outputs": [],
   "source": [
    "#Your Plots:"
   ]
  },
  {
   "cell_type": "markdown",
   "metadata": {
    "tags": [
     "corr"
    ]
   },
   "source": [
    "If you did everything correctly, your plots should look like the following:"
   ]
  },
  {
   "attachments": {
    "graph1.png": {
     "image/png": "[encoded data removed]"
    }
   },
   "cell_type": "markdown",
   "metadata": {
    "tags": [
     "corr1"
    ]
   },
   "source": [
    "![graph1.png](attachment:graph1.png)"
   ]
  },
  {
   "attachments": {
    "graph2.png": {
     "image/png": "[encoded data removed]"
    }
   },
   "cell_type": "markdown",
   "metadata": {
    "tags": [
     "corr2"
    ]
   },
   "source": [
    "![graph2.png](attachment:graph2.png)"
   ]
  },
  {
   "attachments": {
    "graph3.png": {
     "image/png": "[encoded data removed]"
    }
   },
   "cell_type": "markdown",
   "metadata": {
    "tags": [
     "corr3"
    ]
   },
   "source": [
    "![graph3.png](attachment:graph3.png)"
   ]
  },
  {
   "attachments": {
    "graph4.png": {
     "image/png": "[encoded data removed]"
    }
   },
   "cell_type": "markdown",
   "metadata": {
    "tags": [
     "corr4"
    ]
   },
   "source": [
    "![graph4.png](attachment:graph4.png)"
   ]
  },
  {
   "cell_type": "markdown",
   "metadata": {
    "tags": [
     "task2.3"
    ]
   },
   "source": [
    "<h3 style=\"color:rgb(0,120,170)\">Task 2.3:</h3>\n",
    "\n",
    "<h3 style=\"color:rgb(208,90,80)\">Question 2.3 (10 points)</h3>\n",
    "\n",
    "1. On average, which estimator is closer to the true value? \n",
    "\n",
    "a_) Estimator (A) is closer to the true variance.<br>\n",
    "b_) Estimator (B) is closer to the true variance."
   ]
  },
  {
   "cell_type": "code",
   "execution_count": null,
   "metadata": {
    "tags": [
     "q1"
    ]
   },
   "outputs": [],
   "source": [
    "##example:\n",
    "x_=True\n",
    "y_=False\n",
    "##\n",
    "\n",
    "a_=None\n",
    "b_=None"
   ]
  },
  {
   "cell_type": "markdown",
   "metadata": {
    "tags": [
     "task2.3.2"
    ]
   },
   "source": [
    "2. And which one has less variance?\n",
    "\n",
    "c_) Estimator (A) has less variance.<br>\n",
    "d_) Estimator (B) has less variance."
   ]
  },
  {
   "cell_type": "code",
   "execution_count": null,
   "metadata": {
    "tags": [
     "q2"
    ]
   },
   "outputs": [],
   "source": [
    "c_=None\n",
    "d_=None"
   ]
  },
  {
   "cell_type": "markdown",
   "metadata": {
    "tags": [
     "task2.3.3"
    ]
   },
   "source": [
    "3. What is the Cramer-Rao Lower Bound for this estimation task? You will probably have\n",
    " observed that one of the estimators has even less variance than the CRLB predicts. How can that be?"
   ]
  },
  {
   "cell_type": "markdown",
   "metadata": {
    "tags": [
     "q3"
    ]
   },
   "source": [
    "Your solution here"
   ]
  },
  {
   "cell_type": "code",
   "execution_count": null,
   "metadata": {
    "tags": [
     "executability_check"
    ]
   },
   "outputs": [],
   "source": [
    "sample(5,5,5)\n",
    "varA(np.ones(5))\n",
    "varB(np.ones(5))\n",
    "update_running_mean(5,5,5)\n",
    "crlb(5,5)\n",
    "run(5)\n",
    "print(\"Executable!\")"
   ]
  }
 ],
 "metadata": {
  "celltoolbar": "Tags",
  "kernelspec": {
   "display_name": "Python 3 (ipykernel)",
   "language": "python",
   "name": "python3"
  },
  "language_info": {
   "codemirror_mode": {
    "name": "ipython",
    "version": 3
   },
   "file_extension": ".py",
   "mimetype": "text/x-python",
   "name": "python",
   "nbconvert_exporter": "python",
   "pygments_lexer": "ipython3",
   "version": "3.9.7"
  }
 },
 "nbformat": 4,
 "nbformat_minor": 2
}
