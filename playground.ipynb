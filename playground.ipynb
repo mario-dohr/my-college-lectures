{
 "cells": [
  {
   "cell_type": "code",
   "execution_count": 1,
   "id": "155693b9",
   "metadata": {
    "pycharm": {
     "name": "#%%\n"
    }
   },
   "outputs": [],
   "source": [
    "%matplotlib inline\n",
    "\n",
    "import numpy as np"
   ]
  },
  {
   "cell_type": "code",
   "execution_count": 2,
   "outputs": [
    {
     "data": {
      "text/plain": "3"
     },
     "execution_count": 2,
     "metadata": {},
     "output_type": "execute_result"
    }
   ],
   "source": [
    "a = np.array([1,2,3])\n",
    "a.shape[0]"
   ],
   "metadata": {
    "collapsed": false,
    "pycharm": {
     "name": "#%%\n"
    }
   }
  },
  {
   "cell_type": "code",
   "execution_count": 4,
   "outputs": [
    {
     "data": {
      "text/plain": "6"
     },
     "execution_count": 4,
     "metadata": {},
     "output_type": "execute_result"
    }
   ],
   "source": [
    "v = 1\n",
    "v += 5\n",
    "v"
   ],
   "metadata": {
    "collapsed": false,
    "pycharm": {
     "name": "#%%\n"
    }
   }
  },
  {
   "cell_type": "code",
   "execution_count": 22,
   "outputs": [
    {
     "data": {
      "text/plain": "array([[0.55544981, 0.71464739],\n       [0.95667402, 0.61482448],\n       [0.46294834, 0.34795157]])"
     },
     "execution_count": 22,
     "metadata": {},
     "output_type": "execute_result"
    }
   ],
   "source": [
    "v = np.random.rand(5,3,2)\n",
    "v[0]"
   ],
   "metadata": {
    "collapsed": false,
    "pycharm": {
     "name": "#%%\n"
    }
   }
  },
  {
   "cell_type": "code",
   "execution_count": 21,
   "outputs": [
    {
     "name": "stdout",
     "output_type": "stream",
     "text": [
      "[[0.20530356 0.88410156]\n",
      " [0.7172586  0.90661387]\n",
      " [0.68209133 0.94636365]] (3, 2)\n",
      "-\n",
      "[[0.62291231 0.87806596]\n",
      " [0.01321362 0.1763838 ]\n",
      " [0.83803964 0.54522933]] (3, 2)\n",
      "-\n",
      "[[0.61472214 0.41025216]\n",
      " [0.15865792 0.09272519]\n",
      " [0.56164935 0.97206742]] (3, 2)\n",
      "-\n",
      "[[0.1983202  0.86732812]\n",
      " [0.68808169 0.768698  ]\n",
      " [0.62855377 0.47984099]] (3, 2)\n",
      "-\n",
      "[[0.57449397 0.47640619]\n",
      " [0.30571258 0.19474969]\n",
      " [0.13790184 0.65739557]] (3, 2)\n",
      "-\n"
     ]
    }
   ],
   "source": [
    "for x in v:\n",
    "    print(x,x.shape)\n",
    "    print('-')"
   ],
   "metadata": {
    "collapsed": false,
    "pycharm": {
     "name": "#%%\n"
    }
   }
  },
  {
   "cell_type": "code",
   "execution_count": 23,
   "outputs": [
    {
     "data": {
      "text/plain": "array([[[0.55544981, 0.71464739],\n        [0.95667402, 0.61482448],\n        [0.46294834, 0.34795157]],\n\n       [[0.3413808 , 0.30475546],\n        [0.11718788, 0.91827546],\n        [0.53279535, 0.55362059]],\n\n       [[0.78624618, 0.70576737],\n        [0.16171985, 0.648557  ],\n        [0.0492439 , 0.45864466]],\n\n       [[0.23091649, 0.48096747],\n        [0.53811258, 0.55462205],\n        [0.71630982, 0.08954884]],\n\n       [[0.26330177, 0.07163944],\n        [0.77700039, 0.91581691],\n        [0.48050088, 0.29405458]]])"
     },
     "execution_count": 23,
     "metadata": {},
     "output_type": "execute_result"
    }
   ],
   "source": [
    "v"
   ],
   "metadata": {
    "collapsed": false,
    "pycharm": {
     "name": "#%%\n"
    }
   }
  },
  {
   "cell_type": "code",
   "execution_count": 25,
   "outputs": [
    {
     "data": {
      "text/plain": "array([[0.55544981, 0.71464739],\n       [0.95667402, 0.61482448],\n       [0.46294834, 0.34795157]])"
     },
     "execution_count": 25,
     "metadata": {},
     "output_type": "execute_result"
    }
   ],
   "source": [
    "v[0,:,:]\n"
   ],
   "metadata": {
    "collapsed": false,
    "pycharm": {
     "name": "#%%\n"
    }
   }
  },
  {
   "cell_type": "code",
   "execution_count": null,
   "outputs": [],
   "source": [],
   "metadata": {
    "collapsed": false,
    "pycharm": {
     "name": "#%%\n"
    }
   }
  }
 ],
 "metadata": {
  "kernelspec": {
   "display_name": "Python 3 (ipykernel)",
   "language": "python",
   "name": "python3"
  },
  "language_info": {
   "codemirror_mode": {
    "name": "ipython",
    "version": 3
   },
   "file_extension": ".py",
   "mimetype": "text/x-python",
   "name": "python",
   "nbconvert_exporter": "python",
   "pygments_lexer": "ipython3",
   "version": "3.10.3"
  }
 },
 "nbformat": 4,
 "nbformat_minor": 5
}