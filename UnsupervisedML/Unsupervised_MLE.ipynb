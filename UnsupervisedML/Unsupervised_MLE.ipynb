{
 "cells": [
  {
   "cell_type": "code",
   "execution_count": 43,
   "id": "784de0c3",
   "metadata": {},
   "outputs": [],
   "source": [
    "import numpy as np\n",
    "import scipy.stats\n",
    "x = np.random.normal(0,2.3,5000)"
   ]
  },
  {
   "cell_type": "code",
   "execution_count": 44,
   "id": "920b57c3",
   "metadata": {},
   "outputs": [],
   "source": [
    "def mle(w):\n",
    "    return np.log(scipy.stats.norm(0,w).pdf(x)).sum()*(-1)"
   ]
  },
  {
   "cell_type": "code",
   "execution_count": 45,
   "id": "c54981b4",
   "metadata": {},
   "outputs": [
    {
     "data": {
      "text/plain": [
       "11336.47715114579"
      ]
     },
     "execution_count": 45,
     "metadata": {},
     "output_type": "execute_result"
    }
   ],
   "source": [
    "mle(2.3)"
   ]
  },
  {
   "cell_type": "code",
   "execution_count": 46,
   "id": "b49b0194",
   "metadata": {},
   "outputs": [
    {
     "data": {
      "text/plain": [
       "11468.826974989122"
      ]
     },
     "execution_count": 46,
     "metadata": {},
     "output_type": "execute_result"
    }
   ],
   "source": [
    "mle(2)"
   ]
  },
  {
   "cell_type": "code",
   "execution_count": 47,
   "id": "ed59ee51",
   "metadata": {},
   "outputs": [
    {
     "data": {
      "text/plain": [
       "11357.5213053404"
      ]
     },
     "execution_count": 47,
     "metadata": {},
     "output_type": "execute_result"
    }
   ],
   "source": [
    "mle(2.5)"
   ]
  },
  {
   "cell_type": "code",
   "execution_count": 48,
   "id": "30dfc50f",
   "metadata": {},
   "outputs": [
    {
     "data": {
      "text/plain": [
       "     fun: 11335.308002518086\n",
       " message: '\\nOptimization terminated successfully;\\nThe returned value satisfies the termination criteria\\n(using xtol = 1.48e-08 )'\n",
       "    nfev: 20\n",
       "     nit: 15\n",
       " success: True\n",
       "       x: 2.335259576279349"
      ]
     },
     "execution_count": 48,
     "metadata": {},
     "output_type": "execute_result"
    }
   ],
   "source": [
    "import scipy\n",
    "scipy.optimize.minimize_scalar(mle,bounds=(1,10))"
   ]
  },
  {
   "cell_type": "code",
   "execution_count": null,
   "id": "0563a59d",
   "metadata": {},
   "outputs": [],
   "source": []
  }
 ],
 "metadata": {
  "kernelspec": {
   "display_name": "Python 3 (ipykernel)",
   "language": "python",
   "name": "python3"
  },
  "language_info": {
   "codemirror_mode": {
    "name": "ipython",
    "version": 3
   },
   "file_extension": ".py",
   "mimetype": "text/x-python",
   "name": "python",
   "nbconvert_exporter": "python",
   "pygments_lexer": "ipython3",
   "version": "3.10.3"
  }
 },
 "nbformat": 4,
 "nbformat_minor": 5
}
