{
 "cells": [
  {
   "cell_type": "markdown",
   "id": "63746566",
   "metadata": {},
   "source": [
    "# Chapter 3\n"
   ]
  },
  {
   "cell_type": "markdown",
   "id": "9d79ac07",
   "metadata": {},
   "source": [
    "## 3.1 Bag of words\n",
    "\n"
   ]
  },
  {
   "cell_type": "code",
   "execution_count": 19,
   "id": "2ec52c74",
   "metadata": {},
   "outputs": [
    {
     "data": {
      "text/plain": [
       "['noch',\n",
       " 'ist',\n",
       " 'nichts',\n",
       " 'passiert.',\n",
       " 'russisches',\n",
       " 'gas',\n",
       " 'strömt',\n",
       " 'nach',\n",
       " 'deutschland',\n",
       " ',',\n",
       " 'niemand',\n",
       " 'muss',\n",
       " 'frieren',\n",
       " ',',\n",
       " 'alle',\n",
       " 'haben',\n",
       " 'strom',\n",
       " 'zum',\n",
       " 'kochen',\n",
       " ',',\n",
       " 'die',\n",
       " 'autos',\n",
       " 'fahren.',\n",
       " 'doch',\n",
       " 'da',\n",
       " 'niemand',\n",
       " 'abschätzen',\n",
       " 'kann',\n",
       " ',',\n",
       " 'wie',\n",
       " 'der',\n",
       " 'krieg',\n",
       " 'russlands',\n",
       " 'gegen',\n",
       " 'die',\n",
       " 'ukraine',\n",
       " 'weitergeht',\n",
       " 'und',\n",
       " 'welche',\n",
       " 'konsequenzen',\n",
       " 'er',\n",
       " 'noch',\n",
       " 'mit',\n",
       " 'sich',\n",
       " 'bringen',\n",
       " 'wird',\n",
       " ',',\n",
       " 'baut',\n",
       " 'die',\n",
       " 'deutsche',\n",
       " 'regierung',\n",
       " 'schon',\n",
       " 'mal',\n",
       " 'vor',\n",
       " '.']"
      ]
     },
     "execution_count": 19,
     "metadata": {},
     "output_type": "execute_result"
    }
   ],
   "source": [
    "from nltk.tokenize import TreebankWordTokenizer\n",
    "\n",
    "sentence = \"\"\"Noch ist nichts passiert. Russisches Gas strömt nach Deutschland, niemand muss frieren, \\\n",
    "alle haben Strom zum Kochen, die Autos fahren. Doch da niemand abschätzen kann, wie der Krieg Russlands \\\n",
    "gegen die Ukraine weitergeht und welche Konsequenzen er noch mit sich bringen wird, baut die \\\n",
    "deutsche Regierung schon mal vor.\"\"\"\n",
    "\n",
    "tokenizer = TreebankWordTokenizer()\n",
    "tokens = tokenizer.tokenize(sentence.lower())\n",
    "tokens"
   ]
  },
  {
   "cell_type": "code",
   "execution_count": 20,
   "id": "20866df0",
   "metadata": {},
   "outputs": [
    {
     "data": {
      "text/plain": [
       "Counter({'noch': 2,\n",
       "         'ist': 1,\n",
       "         'nichts': 1,\n",
       "         'passiert.': 1,\n",
       "         'russisches': 1,\n",
       "         'gas': 1,\n",
       "         'strömt': 1,\n",
       "         'nach': 1,\n",
       "         'deutschland': 1,\n",
       "         ',': 5,\n",
       "         'niemand': 2,\n",
       "         'muss': 1,\n",
       "         'frieren': 1,\n",
       "         'alle': 1,\n",
       "         'haben': 1,\n",
       "         'strom': 1,\n",
       "         'zum': 1,\n",
       "         'kochen': 1,\n",
       "         'die': 3,\n",
       "         'autos': 1,\n",
       "         'fahren.': 1,\n",
       "         'doch': 1,\n",
       "         'da': 1,\n",
       "         'abschätzen': 1,\n",
       "         'kann': 1,\n",
       "         'wie': 1,\n",
       "         'der': 1,\n",
       "         'krieg': 1,\n",
       "         'russlands': 1,\n",
       "         'gegen': 1,\n",
       "         'ukraine': 1,\n",
       "         'weitergeht': 1,\n",
       "         'und': 1,\n",
       "         'welche': 1,\n",
       "         'konsequenzen': 1,\n",
       "         'er': 1,\n",
       "         'mit': 1,\n",
       "         'sich': 1,\n",
       "         'bringen': 1,\n",
       "         'wird': 1,\n",
       "         'baut': 1,\n",
       "         'deutsche': 1,\n",
       "         'regierung': 1,\n",
       "         'schon': 1,\n",
       "         'mal': 1,\n",
       "         'vor': 1,\n",
       "         '.': 1})"
      ]
     },
     "execution_count": 20,
     "metadata": {},
     "output_type": "execute_result"
    }
   ],
   "source": [
    "from collections import Counter\n",
    "bag_of_words = Counter(tokens)\n",
    "bag_of_words"
   ]
  },
  {
   "cell_type": "code",
   "execution_count": 21,
   "id": "eef79948",
   "metadata": {},
   "outputs": [
    {
     "data": {
      "text/plain": [
       "[(',', 5), ('die', 3), ('noch', 2), ('niemand', 2)]"
      ]
     },
     "execution_count": 21,
     "metadata": {},
     "output_type": "execute_result"
    }
   ],
   "source": [
    "bag_of_words.most_common(4)"
   ]
  },
  {
   "cell_type": "code",
   "execution_count": 23,
   "id": "fb0ade4a",
   "metadata": {},
   "outputs": [
    {
     "data": {
      "text/plain": [
       "0.0426"
      ]
     },
     "execution_count": 23,
     "metadata": {},
     "output_type": "execute_result"
    }
   ],
   "source": [
    "times_niemand_appears = bag_of_words['niemand']\n",
    "num_unique_words = len(bag_of_words)\n",
    "tf = times_niemand_appears / num_unique_words\n",
    "round(tf,4)"
   ]
  },
  {
   "cell_type": "markdown",
   "id": "af29fa38",
   "metadata": {},
   "source": [
    "## 3.2 Vectorizing"
   ]
  },
  {
   "cell_type": "code",
   "execution_count": 6,
   "id": "82b0bf6d",
   "metadata": {},
   "outputs": [
    {
     "data": {
      "text/plain": [
       "[['mario', 'franz'], ['sepp', 'hans'], ['ixi', 'pixi']]"
      ]
     },
     "execution_count": 6,
     "metadata": {},
     "output_type": "execute_result"
    }
   ],
   "source": [
    "data = [['mario','franz'],['sepp','hans']]\n",
    "data += [['ixi','pixi']]\n",
    "data"
   ]
  },
  {
   "cell_type": "markdown",
   "id": "2cd34611",
   "metadata": {},
   "source": [
    "## 3.3 Zipf's law"
   ]
  },
  {
   "cell_type": "code",
   "execution_count": 2,
   "id": "938076ae",
   "metadata": {},
   "outputs": [
    {
     "name": "stderr",
     "output_type": "stream",
     "text": [
      "[nltk_data] Downloading package brown to\n",
      "[nltk_data]     C:\\Users\\dohr\\AppData\\Roaming\\nltk_data...\n",
      "[nltk_data]   Unzipping corpora\\brown.zip.\n"
     ]
    },
    {
     "data": {
      "text/plain": [
       "['The',\n",
       " 'Fulton',\n",
       " 'County',\n",
       " 'Grand',\n",
       " 'Jury',\n",
       " 'said',\n",
       " 'Friday',\n",
       " 'an',\n",
       " 'investigation',\n",
       " 'of']"
      ]
     },
     "execution_count": 2,
     "metadata": {},
     "output_type": "execute_result"
    }
   ],
   "source": [
    "import nltk\n",
    "nltk.download('brown')\n",
    "from nltk.corpus import brown\n",
    "brown.words()[:10]"
   ]
  },
  {
   "cell_type": "code",
   "execution_count": 3,
   "id": "97528d82",
   "metadata": {},
   "outputs": [
    {
     "data": {
      "text/plain": [
       "[('The', 'AT'),\n",
       " ('Fulton', 'NP-TL'),\n",
       " ('County', 'NN-TL'),\n",
       " ('Grand', 'JJ-TL'),\n",
       " ('Jury', 'NN-TL')]"
      ]
     },
     "execution_count": 3,
     "metadata": {},
     "output_type": "execute_result"
    }
   ],
   "source": [
    "brown.tagged_words()[:5]"
   ]
  },
  {
   "cell_type": "code",
   "execution_count": 5,
   "id": "0d08b1a9",
   "metadata": {},
   "outputs": [
    {
     "data": {
      "text/plain": [
       "1161192"
      ]
     },
     "execution_count": 5,
     "metadata": {},
     "output_type": "execute_result"
    }
   ],
   "source": [
    "len(brown.words())"
   ]
  },
  {
   "cell_type": "code",
   "execution_count": 6,
   "id": "21a64abc",
   "metadata": {},
   "outputs": [
    {
     "data": {
      "text/plain": [
       "[('the', 69971),\n",
       " ('of', 36412),\n",
       " ('and', 28853),\n",
       " ('to', 26158),\n",
       " ('a', 23195),\n",
       " ('in', 21337),\n",
       " ('that', 10594),\n",
       " ('is', 10109),\n",
       " ('was', 9815),\n",
       " ('he', 9548),\n",
       " ('for', 9489),\n",
       " ('it', 8760),\n",
       " ('with', 7289),\n",
       " ('as', 7253),\n",
       " ('his', 6996),\n",
       " ('on', 6741),\n",
       " ('be', 6377),\n",
       " ('at', 5372),\n",
       " ('by', 5306),\n",
       " ('i', 5164)]"
      ]
     },
     "execution_count": 6,
     "metadata": {},
     "output_type": "execute_result"
    }
   ],
   "source": [
    "from collections import Counter\n",
    "puncs = set((',','.','--','-','!','?',':',';','``',\"''\",'(',')','[',']'))\n",
    "word_list = (x.lower() for x in brown.words() if x not in puncs)\n",
    "token_counts = Counter(word_list)\n",
    "token_counts.most_common(20)"
   ]
  },
  {
   "cell_type": "markdown",
   "id": "247297f0",
   "metadata": {},
   "source": [
    "## 3.4 Topic Modelling"
   ]
  },
  {
   "cell_type": "markdown",
   "id": "00f2fb2a",
   "metadata": {},
   "source": [
    "Das Kapitel 3.4.1 Return of Zipf durgehen und verstehen, warum man den log der Termfrequency nimmt."
   ]
  },
  {
   "cell_type": "markdown",
   "id": "0e23278f",
   "metadata": {},
   "source": [
    "**Beispiel TF-IDF manuell**\n",
    "\n",
    "Definieren der Dokumente, der gesamten Tokens, des Lexikons und des Zero-Vektors"
   ]
  },
  {
   "cell_type": "code",
   "execution_count": 15,
   "id": "87be8b13",
   "metadata": {},
   "outputs": [
    {
     "data": {
      "text/plain": [
       "OrderedDict([(',', 0),\n",
       "             ('.', 0),\n",
       "             ('20', 0),\n",
       "             (':', 0),\n",
       "             ('als', 0),\n",
       "             ('angriffs', 0),\n",
       "             ('auf', 0),\n",
       "             ('aus', 0),\n",
       "             ('bei', 0),\n",
       "             ('beim', 0),\n",
       "             ('blieben', 0),\n",
       "             ('den', 0),\n",
       "             ('der', 0),\n",
       "             ('des', 0),\n",
       "             ('deutlich', 0),\n",
       "             ('deutschland', 0),\n",
       "             ('die', 0),\n",
       "             ('einschlägigen', 0),\n",
       "             ('energieunternehmen', 0),\n",
       "             ('er', 0),\n",
       "             ('finanzprüfung', 0),\n",
       "             ('finden', 0),\n",
       "             ('folgenlos', 0),\n",
       "             ('für', 0),\n",
       "             ('geld', 0),\n",
       "             ('gibt', 0),\n",
       "             ('hand', 0),\n",
       "             ('heute', 0),\n",
       "             ('in', 0),\n",
       "             ('jahren', 0),\n",
       "             ('jemanden', 0),\n",
       "             ('jürgen', 0),\n",
       "             ('kessler', 0),\n",
       "             ('kritik', 0),\n",
       "             ('lange', 0),\n",
       "             ('man', 0),\n",
       "             ('massiv', 0),\n",
       "             ('mehr', 0),\n",
       "             ('muss', 0),\n",
       "             ('nachwuchs', 0),\n",
       "             ('natter', 0),\n",
       "             ('nicht', 0),\n",
       "             ('politik', 0),\n",
       "             ('posten', 0),\n",
       "             ('prüfungen', 0),\n",
       "             ('russischen', 0),\n",
       "             ('schröder', 0),\n",
       "             ('seinen', 0),\n",
       "             ('sich', 0),\n",
       "             ('spricht', 0),\n",
       "             ('steht', 0),\n",
       "             ('suchen', 0),\n",
       "             ('trennt', 0),\n",
       "             ('trotz', 0),\n",
       "             ('ukraine', 0),\n",
       "             ('um', 0),\n",
       "             ('und', 0),\n",
       "             ('versprechen', 0),\n",
       "             ('von', 0),\n",
       "             ('vor', 0),\n",
       "             ('vorarlberg', 0),\n",
       "             ('vorausgegangen', 0),\n",
       "             ('waren', 0),\n",
       "             ('weil', 0),\n",
       "             ('wirtschaftsbund', 0),\n",
       "             ('wohlwollend', 0),\n",
       "             ('zu', 0),\n",
       "             ('öffentliche', 0),\n",
       "             ('österreich', 0),\n",
       "             ('über', 0)])"
      ]
     },
     "execution_count": 15,
     "metadata": {},
     "output_type": "execute_result"
    }
   ],
   "source": [
    "from collections import Counter, OrderedDict\n",
    "from nltk.tokenize import TreebankWordTokenizer\n",
    "\n",
    "sentences = \"Der Finanzprüfung beim Wirtschaftsbund waren Prüfungen bei Kessler und Natter vorausgegangen.\\n\"\n",
    "sentences += \"Um jemanden zu finden, der wohlwollend über Jürgen Kessler spricht, muss man in Vorarlberg lange suchen.\\n\"\n",
    "sentences += \"Schröder steht in Deutschland massiv in der Kritik, weil er sich trotz des russischen Angriffs auf die Ukraine nicht von seinen Posten bei russischen Energieunternehmen trennt.\\n\"\n",
    "sentences += \"Die einschlägigen Versprechen der Politik blieben nicht folgenlos: Die öffentliche Hand gibt in Österreich heute deutlich mehr Geld für den Nachwuchs aus als vor 20 Jahren. \"\n",
    "\n",
    "docs = sentences.splitlines()\n",
    "tokenizer = TreebankWordTokenizer()\n",
    "\n",
    "doc_tokens = []\n",
    "for doc in docs:\n",
    "    doc_tokens += [sorted(tokenizer.tokenize(doc.lower()))]\n",
    "\n",
    "all_doc_tokens = sum(doc_tokens,[])\n",
    "lexicon = sorted(set(all_doc_tokens))\n",
    "zero_vector = OrderedDict((token,0) for token in lexicon)\n",
    "zero_vector"
   ]
  },
  {
   "cell_type": "code",
   "execution_count": null,
   "id": "d0503046",
   "metadata": {},
   "outputs": [],
   "source": []
  }
 ],
 "metadata": {
  "kernelspec": {
   "display_name": "Python 3 (ipykernel)",
   "language": "python",
   "name": "python3"
  },
  "language_info": {
   "codemirror_mode": {
    "name": "ipython",
    "version": 3
   },
   "file_extension": ".py",
   "mimetype": "text/x-python",
   "name": "python",
   "nbconvert_exporter": "python",
   "pygments_lexer": "ipython3",
   "version": "3.10.3"
  }
 },
 "nbformat": 4,
 "nbformat_minor": 5
}
