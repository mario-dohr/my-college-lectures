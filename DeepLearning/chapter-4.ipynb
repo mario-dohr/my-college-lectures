{
 "cells": [
  {
   "cell_type": "markdown",
   "id": "85ec0bda",
   "metadata": {
    "pycharm": {
     "name": "#%% md\n"
    }
   },
   "source": [
    "# Basics of Neural Networks"
   ]
  },
  {
   "cell_type": "code",
   "execution_count": null,
   "id": "d971184d",
   "metadata": {
    "pycharm": {
     "name": "#%%\n",
     "is_executing": true
    }
   },
   "outputs": [],
   "source": [
    "import numpy as np\n",
    "import torch \n",
    "import torch.optim as optim\n",
    "from torch import nn\n",
    "import matplotlib.pyplot as plt\n",
    "%matplotlib inline "
   ]
  },
  {
   "cell_type": "code",
   "execution_count": 3,
   "id": "988ced86",
   "metadata": {
    "pycharm": {
     "name": "#%%\n"
    }
   },
   "outputs": [
    {
     "data": {
      "text/plain": "<matplotlib.collections.PathCollection at 0x18ae16875b0>"
     },
     "execution_count": 3,
     "metadata": {},
     "output_type": "execute_result"
    },
    {
     "data": {
      "text/plain": "<Figure size 432x288 with 1 Axes>",
      "image/png": "[encoded data removed]"
     },
     "metadata": {
      "needs_background": "light"
     },
     "output_type": "display_data"
    }
   ],
   "source": [
    "data = np.random.multivariate_normal([0,0],[[1,-3],[-3,52]],250)\n",
    "X = torch.tensor(data[:,0]).type(torch.FloatTensor)\n",
    "y = torch.tensor(data[:,1]).type(torch.FloatTensor)\n",
    "plt.scatter(X,y)\n"
   ]
  },
  {
   "cell_type": "markdown",
   "id": "5c873fb2",
   "metadata": {
    "pycharm": {
     "name": "#%% md\n"
    }
   },
   "source": [
    "## Linear model\n",
    "\n",
    "We will focus on a linear model of the form $y = w_0 + w_1x + \\epsilon$. Where $\\epsilon$ is assumed to be gaussian noise with zero mean and variance $\\sigma^2$.\n"
   ]
  },
  {
   "cell_type": "markdown",
   "id": "ee44d55d",
   "metadata": {
    "pycharm": {
     "name": "#%% md\n"
    }
   },
   "source": [
    "**Analytic solution**"
   ]
  },
  {
   "cell_type": "code",
   "execution_count": 4,
   "id": "17ac6f73",
   "metadata": {
    "pycharm": {
     "name": "#%%\n"
    }
   },
   "outputs": [
    {
     "name": "stdout",
     "output_type": "stream",
     "text": [
      "w: tensor([ 0.0891, -2.8788])\n"
     ]
    },
    {
     "data": {
      "text/plain": "<matplotlib.collections.PathCollection at 0x18ae16fb250>"
     },
     "execution_count": 4,
     "metadata": {},
     "output_type": "execute_result"
    },
    {
     "data": {
      "text/plain": "<Figure size 432x288 with 1 Axes>",
      "image/png": "[encoded data removed]"
     },
     "metadata": {
      "needs_background": "light"
     },
     "output_type": "display_data"
    }
   ],
   "source": [
    "X_ = torch.cat((torch.ones(X.size()).unsqueeze(dim=1),X.unsqueeze(dim=1)),1)\n",
    "w = torch.inverse(X_.T @ X_) @ X_.T @ y\n",
    "print('w:',w)\n",
    "plt.plot(X, X_ @ w,'r')\n",
    "plt.scatter(X,y)"
   ]
  },
  {
   "cell_type": "markdown",
   "id": "93151566",
   "metadata": {
    "pycharm": {
     "name": "#%% md\n"
    }
   },
   "source": [
    "### Gradient descent\n",
    "**Gradient descent with pytorch autograd**"
   ]
  },
  {
   "cell_type": "code",
   "execution_count": 5,
   "id": "82550515",
   "metadata": {
    "pycharm": {
     "name": "#%%\n"
    }
   },
   "outputs": [],
   "source": [
    "def r_emp(w,X,y):\n",
    "     return (y - X @ w).T @ (y - X @ w)"
   ]
  },
  {
   "cell_type": "code",
   "execution_count": 6,
   "id": "8025c19a",
   "metadata": {
    "pycharm": {
     "name": "#%%\n"
    }
   },
   "outputs": [],
   "source": [
    "def min_r_emp_1(X,y,lr=1e-3,k=500):\n",
    "    w = torch.ones(X.shape[1],requires_grad=True)\n",
    "    \n",
    "    for i in range(k):\n",
    "        if w.grad is not None:\n",
    "            w.grad.zero_()\n",
    "        l_p = r_emp(w,X,y)\n",
    "        l_p.backward()\n",
    "        w = (w - lr*w.grad).detach().requires_grad_()\n",
    "    return w"
   ]
  },
  {
   "cell_type": "code",
   "execution_count": 7,
   "id": "ef2f84de",
   "metadata": {
    "pycharm": {
     "name": "#%%\n"
    }
   },
   "outputs": [
    {
     "name": "stdout",
     "output_type": "stream",
     "text": [
      "Solution:  tensor([ 0.0891, -2.8788], requires_grad=True)\n"
     ]
    },
    {
     "name": "stderr",
     "output_type": "stream",
     "text": [
      "C:\\Users\\dohr\\AppData\\Local\\Temp\\ipykernel_18624\\2613419657.py:2: UserWarning: The use of `x.T` on tensors of dimension other than 2 to reverse their shape is deprecated and it will throw an error in a future release. Consider `x.mT` to transpose batches of matricesor `x.permute(*torch.arange(x.ndim - 1, -1, -1))` to reverse the dimensions of a tensor. (Triggered internally at  ..\\aten\\src\\ATen\\native\\TensorShape.cpp:2985.)\n",
      "  return (y - X @ w).T @ (y - X @ w)\n"
     ]
    }
   ],
   "source": [
    "w_g = min_r_emp_1(X_,y)\n",
    "print('Solution: ',w_g)"
   ]
  },
  {
   "cell_type": "markdown",
   "id": "5ea78d6f",
   "metadata": {
    "pycharm": {
     "name": "#%% md\n"
    }
   },
   "source": [
    "**Gradient descent with pytorch autograd and optimizer**"
   ]
  },
  {
   "cell_type": "code",
   "execution_count": 8,
   "id": "7ee2ddd2",
   "metadata": {
    "pycharm": {
     "name": "#%%\n"
    }
   },
   "outputs": [],
   "source": [
    "def min_r_emp_2(X,y,lr=1e-3,k=500):\n",
    "    w = torch.ones(X.shape[1],requires_grad=True)\n",
    "    optimizer = optim.SGD([w],lr=lr)\n",
    "    \n",
    "    for i in range(k):\n",
    "        l_p = r_emp(w,X,y)\n",
    "        optimizer.zero_grad()\n",
    "        l_p.backward()\n",
    "        optimizer.step()\n",
    "        \n",
    "        if i % 100 == 0:\n",
    "            print('Epoch %d, Loss %f' % (i,l_p))\n",
    "    return w"
   ]
  },
  {
   "cell_type": "code",
   "execution_count": 9,
   "id": "d3a06a8f",
   "metadata": {
    "pycharm": {
     "name": "#%%\n"
    }
   },
   "outputs": [
    {
     "name": "stdout",
     "output_type": "stream",
     "text": [
      "Epoch 0, Loss 15472.895508\n",
      "Epoch 100, Loss 10954.540039\n",
      "Epoch 200, Loss 10954.540039\n",
      "Epoch 300, Loss 10954.540039\n",
      "Epoch 400, Loss 10954.540039\n",
      "Solution: tensor([ 0.0891, -2.8788], requires_grad=True)\n"
     ]
    }
   ],
   "source": [
    "w_g_2 = min_r_emp_2(X_,y,lr=0.001,k=500)\n",
    "print('Solution:',w_g_2)"
   ]
  },
  {
   "cell_type": "markdown",
   "id": "6bed2996",
   "metadata": {
    "pycharm": {
     "name": "#%% md\n"
    }
   },
   "source": [
    "**Gradient descent with manual differentiation**"
   ]
  },
  {
   "cell_type": "code",
   "execution_count": 10,
   "id": "07241800",
   "metadata": {
    "pycharm": {
     "name": "#%%\n"
    }
   },
   "outputs": [],
   "source": [
    "def dw_r_emp(w,X,y):\n",
    "    return X.T @ (X @ w - y)"
   ]
  },
  {
   "cell_type": "code",
   "execution_count": 11,
   "id": "25b18a1b",
   "metadata": {
    "pycharm": {
     "name": "#%%\n"
    }
   },
   "outputs": [],
   "source": [
    "def min_r_emp_3(X,y,lr=1e-3,k=500):\n",
    "    w = torch.ones(X.shape[1])\n",
    "    \n",
    "    for i in range(k):\n",
    "        l_p = r_emp(w,X,y)\n",
    "        dw = dw_r_emp(w,X,y)\n",
    "        w = (w - lr*dw)\n",
    "    return w"
   ]
  },
  {
   "cell_type": "code",
   "execution_count": 12,
   "id": "af888e1d",
   "metadata": {
    "pycharm": {
     "name": "#%%\n"
    }
   },
   "outputs": [
    {
     "name": "stdout",
     "output_type": "stream",
     "text": [
      "Solution: tensor([ 0.0891, -2.8788])\n"
     ]
    }
   ],
   "source": [
    "w_g_3 = min_r_emp_3(X_,y,lr=0.001,k=500)\n",
    "print('Solution:',w_g_3)"
   ]
  },
  {
   "cell_type": "markdown",
   "id": "d84c51f0",
   "metadata": {
    "pycharm": {
     "name": "#%% md\n"
    }
   },
   "source": [
    "Define a general training loop"
   ]
  },
  {
   "cell_type": "code",
   "execution_count": 13,
   "id": "2cd9877a",
   "metadata": {
    "pycharm": {
     "name": "#%%\n"
    }
   },
   "outputs": [],
   "source": [
    "def training_loop(X,y,w,optimizer,model,loss_fn,lr=1e-3,n_epochs=5000):\n",
    "   \n",
    "    for i in range(n_epochs):\n",
    "        y_p = model(w,X)\n",
    "        loss = loss_fn(y_p,y)\n",
    "        \n",
    "        optimizer.zero_grad()\n",
    "        loss.backward()\n",
    "        optimizer.step()\n",
    "        \n",
    "        if i % 500 == 0:\n",
    "            print('Epoch %d, Loss %f' % (i,loss))\n",
    "\n",
    "    print('Result:',w)\n",
    "    return w"
   ]
  },
  {
   "cell_type": "code",
   "execution_count": 14,
   "id": "06a5777e",
   "metadata": {
    "pycharm": {
     "name": "#%%\n"
    }
   },
   "outputs": [],
   "source": [
    "def model(w,X):\n",
    "    return X @ w\n",
    "\n",
    "def loss_fn(y_p,y):\n",
    "    return 0.5*((y_p - y)**2).sum()"
   ]
  },
  {
   "cell_type": "code",
   "execution_count": 16,
   "id": "4017a5c4",
   "metadata": {
    "pycharm": {
     "name": "#%%\n"
    }
   },
   "outputs": [
    {
     "name": "stdout",
     "output_type": "stream",
     "text": [
      "Epoch 0, Loss 61.891590\n",
      "Epoch 500, Loss 45.668804\n",
      "Epoch 1000, Loss 44.011040\n",
      "Epoch 1500, Loss 43.838703\n",
      "Epoch 2000, Loss 43.820400\n",
      "Epoch 2500, Loss 43.818409\n",
      "Epoch 3000, Loss 43.818188\n",
      "Epoch 3500, Loss 43.818165\n",
      "Epoch 4000, Loss 43.818157\n",
      "Epoch 4500, Loss 43.818157\n",
      "Result: tensor([ 0.0892, -2.8787], requires_grad=True)\n"
     ]
    },
    {
     "data": {
      "text/plain": "tensor([ 0.0892, -2.8787], requires_grad=True)"
     },
     "execution_count": 16,
     "metadata": {},
     "output_type": "execute_result"
    }
   ],
   "source": [
    "w = torch.ones(X_.shape[1],requires_grad=True)\n",
    "optimizer = optim.SGD([w],lr=1e-3)\n",
    "\n",
    "training_loop(X_,y,w,optimizer,model,nn.MSELoss())"
   ]
  },
  {
   "cell_type": "markdown",
   "source": [
    "## Perceptron"
   ],
   "metadata": {
    "collapsed": false,
    "pycharm": {
     "name": "#%% md\n"
    }
   }
  },
  {
   "cell_type": "markdown",
   "source": [
    "generate 2-D testdata"
   ],
   "metadata": {
    "collapsed": false,
    "pycharm": {
     "name": "#%% md\n"
    }
   }
  },
  {
   "cell_type": "code",
   "execution_count": 75,
   "outputs": [
    {
     "name": "stderr",
     "output_type": "stream",
     "text": [
      "C:\\Users\\dohr\\AppData\\Local\\Temp\\ipykernel_18624\\2996375989.py:1: RuntimeWarning: covariance is not positive-semidefinite.\n",
      "  X1 = torch.tensor(np.random.multivariate_normal([0,0],[[1,2],[2,3]],250)).type(torch.FloatTensor)\n"
     ]
    },
    {
     "data": {
      "text/plain": "<matplotlib.collections.PathCollection at 0x18ae5110b20>"
     },
     "execution_count": 75,
     "metadata": {},
     "output_type": "execute_result"
    },
    {
     "data": {
      "text/plain": "<Figure size 432x288 with 1 Axes>",
      "image/png": "[encoded data removed]"
     },
     "metadata": {
      "needs_background": "light"
     },
     "output_type": "display_data"
    }
   ],
   "source": [
    "X1 = torch.tensor(np.random.multivariate_normal([0,0],[[1,2],[2,3]],250)).type(torch.FloatTensor)\n",
    "X2 = torch.tensor(np.random.multivariate_normal([-2,6],[[2,2],[2,4]],250)).type(torch.FloatTensor)\n",
    "X = torch.cat((X1,X2),0)\n",
    "y = torch.cat((torch.ones(250),torch.ones(250)*(-1)),0)\n",
    "\n",
    "plt.scatter(X[:,0],X[:,1],c=y)"
   ],
   "metadata": {
    "collapsed": false,
    "pycharm": {
     "name": "#%%\n"
    }
   }
  },
  {
   "cell_type": "code",
   "execution_count": 83,
   "outputs": [],
   "source": [
    "def model_perc(X,w,bias=True):\n",
    "    x_temp = torch.cat((torch.ones(X.shape[0]).unsqueeze(dim=1),X),dim=1)\n",
    "    return torch.sign(x_temp @ w)"
   ],
   "metadata": {
    "collapsed": false,
    "pycharm": {
     "name": "#%%\n"
    }
   }
  },
  {
   "cell_type": "code",
   "execution_count": 87,
   "outputs": [],
   "source": [
    "def loss_perc(y_p,y):\n",
    "    mask = (y_p * y) == -1\n",
    "    return mask.sum()"
   ],
   "metadata": {
    "collapsed": false,
    "pycharm": {
     "name": "#%%\n"
    }
   }
  },
  {
   "cell_type": "code",
   "execution_count": 97,
   "outputs": [],
   "source": [
    "def train_loop_perc(X,y,lr=1e-3,n_epoch=500):\n",
    "    w = torch.ones(3,requires_grad=True)\n",
    "    print(w)\n",
    "    for i in range(n_epoch):\n",
    "        if w.grad is not None:\n",
    "            w.grad.zero_()\n",
    "\n",
    "        y_p = model_perc(X,w)\n",
    "        l = loss_perc(y_p,y)\n",
    "        print(l)\n",
    "        l.backward()\n",
    "\n",
    "        if i % 100 == 0:\n",
    "            print('Epoch %d, Loss %f' % (i,l))\n",
    "\n",
    "        w = (w - lr * w.grad).detach().requires_grad()\n",
    "\n",
    "    return w"
   ],
   "metadata": {
    "collapsed": false,
    "pycharm": {
     "name": "#%%\n"
    }
   }
  },
  {
   "cell_type": "code",
   "execution_count": 98,
   "outputs": [
    {
     "name": "stdout",
     "output_type": "stream",
     "text": [
      "tensor([1., 1., 1.], requires_grad=True)\n",
      "tensor(330)\n"
     ]
    },
    {
     "ename": "RuntimeError",
     "evalue": "element 0 of tensors does not require grad and does not have a grad_fn",
     "output_type": "error",
     "traceback": [
      "\u001B[1;31m---------------------------------------------------------------------------\u001B[0m",
      "\u001B[1;31mRuntimeError\u001B[0m                              Traceback (most recent call last)",
      "Input \u001B[1;32mIn [98]\u001B[0m, in \u001B[0;36m<cell line: 1>\u001B[1;34m()\u001B[0m\n\u001B[1;32m----> 1\u001B[0m \u001B[43mtrain_loop_perc\u001B[49m\u001B[43m(\u001B[49m\u001B[43mX\u001B[49m\u001B[43m,\u001B[49m\u001B[43my\u001B[49m\u001B[43m)\u001B[49m\n",
      "Input \u001B[1;32mIn [97]\u001B[0m, in \u001B[0;36mtrain_loop_perc\u001B[1;34m(X, y, lr, n_epoch)\u001B[0m\n\u001B[0;32m      9\u001B[0m l \u001B[38;5;241m=\u001B[39m loss_perc(y_p,y)\n\u001B[0;32m     10\u001B[0m \u001B[38;5;28mprint\u001B[39m(l)\n\u001B[1;32m---> 11\u001B[0m \u001B[43ml\u001B[49m\u001B[38;5;241;43m.\u001B[39;49m\u001B[43mbackward\u001B[49m\u001B[43m(\u001B[49m\u001B[43m)\u001B[49m\n\u001B[0;32m     13\u001B[0m \u001B[38;5;28;01mif\u001B[39;00m i \u001B[38;5;241m%\u001B[39m \u001B[38;5;241m100\u001B[39m \u001B[38;5;241m==\u001B[39m \u001B[38;5;241m0\u001B[39m:\n\u001B[0;32m     14\u001B[0m     \u001B[38;5;28mprint\u001B[39m(\u001B[38;5;124m'\u001B[39m\u001B[38;5;124mEpoch \u001B[39m\u001B[38;5;132;01m%d\u001B[39;00m\u001B[38;5;124m, Loss \u001B[39m\u001B[38;5;132;01m%f\u001B[39;00m\u001B[38;5;124m'\u001B[39m \u001B[38;5;241m%\u001B[39m (i,l))\n",
      "File \u001B[1;32mC:\\Entwicklung\\_mario\\_projects\\python\\jupyter\\venv\\lib\\site-packages\\torch\\_tensor.py:396\u001B[0m, in \u001B[0;36mTensor.backward\u001B[1;34m(self, gradient, retain_graph, create_graph, inputs)\u001B[0m\n\u001B[0;32m    387\u001B[0m \u001B[38;5;28;01mif\u001B[39;00m has_torch_function_unary(\u001B[38;5;28mself\u001B[39m):\n\u001B[0;32m    388\u001B[0m     \u001B[38;5;28;01mreturn\u001B[39;00m handle_torch_function(\n\u001B[0;32m    389\u001B[0m         Tensor\u001B[38;5;241m.\u001B[39mbackward,\n\u001B[0;32m    390\u001B[0m         (\u001B[38;5;28mself\u001B[39m,),\n\u001B[1;32m   (...)\u001B[0m\n\u001B[0;32m    394\u001B[0m         create_graph\u001B[38;5;241m=\u001B[39mcreate_graph,\n\u001B[0;32m    395\u001B[0m         inputs\u001B[38;5;241m=\u001B[39minputs)\n\u001B[1;32m--> 396\u001B[0m \u001B[43mtorch\u001B[49m\u001B[38;5;241;43m.\u001B[39;49m\u001B[43mautograd\u001B[49m\u001B[38;5;241;43m.\u001B[39;49m\u001B[43mbackward\u001B[49m\u001B[43m(\u001B[49m\u001B[38;5;28;43mself\u001B[39;49m\u001B[43m,\u001B[49m\u001B[43m \u001B[49m\u001B[43mgradient\u001B[49m\u001B[43m,\u001B[49m\u001B[43m \u001B[49m\u001B[43mretain_graph\u001B[49m\u001B[43m,\u001B[49m\u001B[43m \u001B[49m\u001B[43mcreate_graph\u001B[49m\u001B[43m,\u001B[49m\u001B[43m \u001B[49m\u001B[43minputs\u001B[49m\u001B[38;5;241;43m=\u001B[39;49m\u001B[43minputs\u001B[49m\u001B[43m)\u001B[49m\n",
      "File \u001B[1;32mC:\\Entwicklung\\_mario\\_projects\\python\\jupyter\\venv\\lib\\site-packages\\torch\\autograd\\__init__.py:173\u001B[0m, in \u001B[0;36mbackward\u001B[1;34m(tensors, grad_tensors, retain_graph, create_graph, grad_variables, inputs)\u001B[0m\n\u001B[0;32m    168\u001B[0m     retain_graph \u001B[38;5;241m=\u001B[39m create_graph\n\u001B[0;32m    170\u001B[0m \u001B[38;5;66;03m# The reason we repeat same the comment below is that\u001B[39;00m\n\u001B[0;32m    171\u001B[0m \u001B[38;5;66;03m# some Python versions print out the first line of a multi-line function\u001B[39;00m\n\u001B[0;32m    172\u001B[0m \u001B[38;5;66;03m# calls in the traceback and some print out the last line\u001B[39;00m\n\u001B[1;32m--> 173\u001B[0m \u001B[43mVariable\u001B[49m\u001B[38;5;241;43m.\u001B[39;49m\u001B[43m_execution_engine\u001B[49m\u001B[38;5;241;43m.\u001B[39;49m\u001B[43mrun_backward\u001B[49m\u001B[43m(\u001B[49m\u001B[43m  \u001B[49m\u001B[38;5;66;43;03m# Calls into the C++ engine to run the backward pass\u001B[39;49;00m\n\u001B[0;32m    174\u001B[0m \u001B[43m    \u001B[49m\u001B[43mtensors\u001B[49m\u001B[43m,\u001B[49m\u001B[43m \u001B[49m\u001B[43mgrad_tensors_\u001B[49m\u001B[43m,\u001B[49m\u001B[43m \u001B[49m\u001B[43mretain_graph\u001B[49m\u001B[43m,\u001B[49m\u001B[43m \u001B[49m\u001B[43mcreate_graph\u001B[49m\u001B[43m,\u001B[49m\u001B[43m \u001B[49m\u001B[43minputs\u001B[49m\u001B[43m,\u001B[49m\n\u001B[0;32m    175\u001B[0m \u001B[43m    \u001B[49m\u001B[43mallow_unreachable\u001B[49m\u001B[38;5;241;43m=\u001B[39;49m\u001B[38;5;28;43;01mTrue\u001B[39;49;00m\u001B[43m,\u001B[49m\u001B[43m \u001B[49m\u001B[43maccumulate_grad\u001B[49m\u001B[38;5;241;43m=\u001B[39;49m\u001B[38;5;28;43;01mTrue\u001B[39;49;00m\u001B[43m)\u001B[49m\n",
      "\u001B[1;31mRuntimeError\u001B[0m: element 0 of tensors does not require grad and does not have a grad_fn"
     ]
    }
   ],
   "source": [
    "train_loop_perc(X,y)"
   ],
   "metadata": {
    "collapsed": false,
    "pycharm": {
     "name": "#%%\n"
    }
   }
  },
  {
   "cell_type": "code",
   "execution_count": 94,
   "outputs": [
    {
     "data": {
      "text/plain": "tensor(0.)"
     },
     "execution_count": 94,
     "metadata": {},
     "output_type": "execute_result"
    }
   ],
   "source": [
    "y.sum()"
   ],
   "metadata": {
    "collapsed": false,
    "pycharm": {
     "name": "#%%\n"
    }
   }
  },
  {
   "cell_type": "code",
   "execution_count": null,
   "outputs": [],
   "source": [],
   "metadata": {
    "collapsed": false,
    "pycharm": {
     "name": "#%%\n"
    }
   }
  }
 ],
 "metadata": {
  "kernelspec": {
   "display_name": "Python 3 (ipykernel)",
   "language": "python",
   "name": "python3"
  },
  "language_info": {
   "codemirror_mode": {
    "name": "ipython",
    "version": 3
   },
   "file_extension": ".py",
   "mimetype": "text/x-python",
   "name": "python",
   "nbconvert_exporter": "python",
   "pygments_lexer": "ipython3",
   "version": "3.10.3"
  }
 },
 "nbformat": 4,
 "nbformat_minor": 5
}