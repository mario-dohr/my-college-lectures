{
 "cells": [
  {
   "cell_type": "code",
   "execution_count": 1,
   "metadata": {
    "collapsed": true,
    "pycharm": {
     "name": "#%%\n"
    }
   },
   "outputs": [],
   "source": [
    "import numpy as np\n",
    "import pandas as pd\n",
    "import torch\n",
    "import torch.optim as optim\n",
    "from torch import nn\n",
    "import matplotlib.pyplot as plt\n",
    "import time\n",
    "%matplotlib inline"
   ]
  },
  {
   "cell_type": "code",
   "execution_count": 2,
   "outputs": [
    {
     "data": {
      "text/plain": "tensor([[8.8542e-02, 1.0156e-01, 8.8542e-02, 9.7222e-02],\n        [9.7222e-02, 1.0243e-01, 9.7222e-02, 1.0069e-01],\n        [1.0069e-01, 1.0330e-01, 1.0069e-01, 1.0243e-01],\n        ...,\n        [2.8890e+02, 2.8925e+02, 2.8556e+02, 2.8615e+02],\n        [2.8208e+02, 2.8246e+02, 2.7722e+02, 2.7775e+02],\n        [2.7644e+02, 2.7886e+02, 2.7540e+02, 2.7644e+02]], dtype=torch.float64)"
     },
     "execution_count": 2,
     "metadata": {},
     "output_type": "execute_result"
    }
   ],
   "source": [
    "data = pd.read_csv('MSFT.csv')\n",
    "data_tensor = torch.tensor(data.to_numpy()[:,1:5].astype(float))\n",
    "data_tensor"
   ],
   "metadata": {
    "collapsed": false,
    "pycharm": {
     "name": "#%%\n"
    }
   }
  },
  {
   "cell_type": "code",
   "execution_count": 7,
   "outputs": [],
   "source": [
    "def train_loop_conv(train_x,train_y,val_x,val_y,model,optimizer, loss_fn,n_epoch=5000):\n",
    "    start = time.time()\n",
    "    step = int(n_epoch/10)\n",
    "    t_loss = []\n",
    "    v_loss = []\n",
    "    for i in range(n_epoch):\n",
    "        train_y_p = model(train_x)\n",
    "        train_loss = loss_fn(train_y_p,train_y)\n",
    "        t_loss.append(train_loss.item())\n",
    "\n",
    "        val_y_p = model(val_x)\n",
    "        val_loss = loss_fn(val_y_p,val_y)\n",
    "        v_loss.append(val_loss.item())\n",
    "\n",
    "        optimizer.zero_grad()\n",
    "        train_loss.backward()\n",
    "        optimizer.step()\n",
    "\n",
    "        if i % step == 0:\n",
    "            print('Epoch: %d, Training-Loss: %f, Validation-Loss: %f' % (i,train_loss,val_loss))\n",
    "\n",
    "    end = time.time()\n",
    "    print('------------------------------')\n",
    "    print('training loop finished. ')\n",
    "    print(f'training time: {end-start}')\n",
    "    print('Training-Loss: %f, Validation-Loss: %f' % (train_loss,val_loss))\n",
    "\n",
    "    return t_loss,v_loss\n",
    "\n",
    "def get_train_data(data,label_col_idx,size=5):\n",
    "    n_samples =int(data.shape[0] / size) + (data.shape[0] % size)\n",
    "    n_channels = data.shape[1]\n",
    "    X_ = torch.zeros((n_samples,n_channels,size))\n",
    "    y_ = torch.zeros(n_samples)\n",
    "    for i in range(n_samples):\n",
    "        for j in range(n_channels):\n",
    "            X_[i,j] = data[i:i+size,j]\n",
    "        y_[i] = data[i+size,label_col_idx]\n",
    "    return X_ , y_\n"
   ],
   "metadata": {
    "collapsed": false,
    "pycharm": {
     "name": "#%%\n"
    }
   }
  },
  {
   "cell_type": "code",
   "execution_count": 8,
   "outputs": [],
   "source": [
    "conv_model_norm = nn.Sequential(\n",
    "    nn.Conv1d(4,128,3,padding=1),\n",
    "    nn.ReLU(),\n",
    "    nn.MaxPool1d(2),\n",
    "    nn.Conv1d(128,128,5,padding=2),\n",
    "    nn.ReLU(),\n",
    "    nn.MaxPool1d(2),\n",
    "    nn.Flatten(),\n",
    "    nn.Linear(256,1)\n",
    ")\n",
    "\n",
    "loss_L1 = nn.L1Loss()"
   ],
   "metadata": {
    "collapsed": false,
    "pycharm": {
     "name": "#%%\n"
    }
   }
  },
  {
   "cell_type": "code",
   "execution_count": 9,
   "outputs": [
    {
     "name": "stdout",
     "output_type": "stream",
     "text": [
      "Epoch: 0, Training-Loss: 0.000730, Validation-Loss: 0.000712\n",
      "Epoch: 500, Training-Loss: 0.000389, Validation-Loss: 0.000376\n",
      "Epoch: 1000, Training-Loss: 0.000139, Validation-Loss: 0.000130\n",
      "Epoch: 1500, Training-Loss: 0.000465, Validation-Loss: 0.000477\n",
      "Epoch: 2000, Training-Loss: 0.000114, Validation-Loss: 0.000105\n",
      "Epoch: 2500, Training-Loss: 0.000094, Validation-Loss: 0.000097\n",
      "Epoch: 3000, Training-Loss: 0.000231, Validation-Loss: 0.000219\n",
      "Epoch: 3500, Training-Loss: 0.000120, Validation-Loss: 0.000123\n",
      "Epoch: 4000, Training-Loss: 0.000068, Validation-Loss: 0.000060\n",
      "Epoch: 4500, Training-Loss: 0.000069, Validation-Loss: 0.000060\n",
      "------------------------------\n",
      "training loop finished. \n",
      "training time: 145.36720204353333\n",
      "Training-Loss: 0.000061, Validation-Loss: 0.000060\n"
     ]
    }
   ],
   "source": [
    "data_min = data_tensor.min(dim=0)[0]\n",
    "data_max = data_tensor.max(dim=0)[0]\n",
    "data_mean = data_tensor.mean(dim=0,keepdim=True)\n",
    "data_std = data_tensor.std(dim=0)\n",
    "data_normalized = (data_tensor - data_min) / (data_max - data_min)\n",
    "data_standardized = (data_tensor - data_mean) / data_std\n",
    "\n",
    "X, y = get_train_data(data_normalized,3,10)\n",
    "input_data = X\n",
    "input_labels = y.unsqueeze(dim=1)\n",
    "\n",
    "n_samples = X.shape[0]\n",
    "n_val = int (0.2 * n_samples)\n",
    "\n",
    "shuffeled_indices = torch.randperm(n_samples)\n",
    "\n",
    "train_indices = shuffeled_indices[:-n_val]\n",
    "val_indices = shuffeled_indices[-n_val:]\n",
    "\n",
    "optimizer = optim.Adam(conv_model_norm.parameters(),lr=1e-3)\n",
    "t_loss, v_loss = train_loop_conv(input_data[train_indices],input_labels[train_indices],input_data[val_indices],input_labels[val_indices], conv_model_norm, optimizer, loss_L1, n_epoch=5000)"
   ],
   "metadata": {
    "collapsed": false,
    "pycharm": {
     "name": "#%%\n"
    }
   }
  },
  {
   "cell_type": "code",
   "execution_count": 6,
   "outputs": [
    {
     "data": {
      "text/plain": "[<matplotlib.lines.Line2D at 0x22a8bfb0160>]"
     },
     "execution_count": 6,
     "metadata": {},
     "output_type": "execute_result"
    },
    {
     "data": {
      "text/plain": "<Figure size 432x288 with 1 Axes>",
      "image/png": "[encoded data removed]"
     },
     "metadata": {
      "needs_background": "light"
     },
     "output_type": "display_data"
    }
   ],
   "source": [
    "plt.plot(np.linspace(1,1000,num=5000),t_loss,'r')\n",
    "plt.plot(np.linspace(1,1000,num=5000),v_loss,'b')"
   ],
   "metadata": {
    "collapsed": false,
    "pycharm": {
     "name": "#%%\n"
    }
   }
  },
  {
   "cell_type": "code",
   "execution_count": null,
   "outputs": [],
   "source": [],
   "metadata": {
    "collapsed": false,
    "pycharm": {
     "name": "#%%\n"
    }
   }
  }
 ],
 "metadata": {
  "kernelspec": {
   "display_name": "Python 3",
   "language": "python",
   "name": "python3"
  },
  "language_info": {
   "codemirror_mode": {
    "name": "ipython",
    "version": 2
   },
   "file_extension": ".py",
   "mimetype": "text/x-python",
   "name": "python",
   "nbconvert_exporter": "python",
   "pygments_lexer": "ipython2",
   "version": "2.7.6"
  }
 },
 "nbformat": 4,
 "nbformat_minor": 0
}