{
 "cells": [
  {
   "cell_type": "code",
   "execution_count": 6,
   "id": "d9088365",
   "metadata": {
    "pycharm": {
     "name": "#%%\n"
    }
   },
   "outputs": [
    {
     "name": "stdout",
     "output_type": "stream",
     "text": [
      "Start\n",
      "0 min.\n",
      "0 min. + 30 sec.\n",
      "1 min.\n",
      "1 min. + 30 sec.\n",
      "2 min.\n",
      "2 min. + 30 sec.\n",
      "3 min.\n",
      "3 min. + 30 sec.\n",
      "4 min.\n",
      "4 min. + 30 sec.\n"
     ]
    }
   ],
   "source": [
    "import win32api, win32con\n",
    "import time\n",
    "def click(x,y):\n",
    "    win32api.SetCursorPos((x,y))\n",
    "    win32api.mouse_event(win32con.MOUSEEVENTF_LEFTDOWN,x,y,0,0)\n",
    "    win32api.mouse_event(win32con.MOUSEEVENTF_LEFTUP,x,y,0,0)\n",
    "print('Start')    \n",
    "for i in range(5):\n",
    "    click(250,250)\n",
    "    print(f'{i} min.')\n",
    "    time.sleep(30)\n",
    "    click(250,250)\n",
    "    print(f'{i} min. + 30 sec.')\n",
    "    time.sleep(30)\n"
   ]
  },
  {
   "cell_type": "code",
   "execution_count": 1,
   "outputs": [],
   "source": [],
   "metadata": {
    "collapsed": false,
    "pycharm": {
     "name": "#%%\n"
    }
   }
  },
  {
   "cell_type": "code",
   "execution_count": null,
   "outputs": [],
   "source": [],
   "metadata": {
    "collapsed": false,
    "pycharm": {
     "name": "#%%\n"
    }
   }
  }
 ],
 "metadata": {
  "kernelspec": {
   "display_name": "Python 3 (ipykernel)",
   "language": "python",
   "name": "python3"
  },
  "language_info": {
   "codemirror_mode": {
    "name": "ipython",
    "version": 3
   },
   "file_extension": ".py",
   "mimetype": "text/x-python",
   "name": "python",
   "nbconvert_exporter": "python",
   "pygments_lexer": "ipython3",
   "version": "3.10.3"
  }
 },
 "nbformat": 4,
 "nbformat_minor": 5
}