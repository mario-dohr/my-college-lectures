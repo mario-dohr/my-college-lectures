{
 "cells": [
  {
   "cell_type": "code",
   "execution_count": 4,
   "id": "d9088365",
   "metadata": {
    "pycharm": {
     "name": "#%%\n"
    }
   },
   "outputs": [
    {
     "name": "stdout",
     "output_type": "stream",
     "text": [
      "Start\n",
      "0 min.\n",
      "0 min. + 30 sec.\n",
      "1 min.\n",
      "1 min. + 30 sec.\n",
      "2 min.\n",
      "2 min. + 30 sec.\n",
      "3 min.\n",
      "3 min. + 30 sec.\n",
      "4 min.\n",
      "4 min. + 30 sec.\n",
      "5 min.\n",
      "5 min. + 30 sec.\n",
      "6 min.\n",
      "6 min. + 30 sec.\n",
      "7 min.\n",
      "7 min. + 30 sec.\n",
      "8 min.\n",
      "8 min. + 30 sec.\n",
      "9 min.\n",
      "9 min. + 30 sec.\n",
      "10 min.\n",
      "10 min. + 30 sec.\n",
      "11 min.\n",
      "11 min. + 30 sec.\n",
      "12 min.\n",
      "12 min. + 30 sec.\n",
      "13 min.\n",
      "13 min. + 30 sec.\n",
      "14 min.\n",
      "14 min. + 30 sec.\n",
      "15 min.\n",
      "15 min. + 30 sec.\n",
      "16 min.\n",
      "16 min. + 30 sec.\n",
      "17 min.\n",
      "17 min. + 30 sec.\n",
      "18 min.\n",
      "18 min. + 30 sec.\n",
      "19 min.\n",
      "19 min. + 30 sec.\n",
      "20 min.\n",
      "20 min. + 30 sec.\n",
      "21 min.\n",
      "21 min. + 30 sec.\n",
      "22 min.\n",
      "22 min. + 30 sec.\n",
      "23 min.\n",
      "23 min. + 30 sec.\n",
      "24 min.\n",
      "24 min. + 30 sec.\n"
     ]
    }
   ],
   "source": [
    "import win32api, win32con\n",
    "import time\n",
    "def click(x,y):\n",
    "    win32api.SetCursorPos((x,y))\n",
    "    win32api.mouse_event(win32con.MOUSEEVENTF_LEFTDOWN,x,y,0,0)\n",
    "    win32api.mouse_event(win32con.MOUSEEVENTF_LEFTUP,x,y,0,0)\n",
    "print('Start')    \n",
    "for i in range(25):\n",
    "    click(250,250)\n",
    "    print(f'{i} min.')\n",
    "    time.sleep(30)\n",
    "    click(250,250)\n",
    "    print(f'{i} min. + 30 sec.')\n",
    "    time.sleep(30)\n"
   ]
  },
  {
   "cell_type": "code",
   "execution_count": 2,
   "outputs": [],
   "source": [],
   "metadata": {
    "collapsed": false,
    "pycharm": {
     "name": "#%%\n"
    }
   }
  },
  {
   "cell_type": "code",
   "execution_count": null,
   "outputs": [],
   "source": [],
   "metadata": {
    "collapsed": false,
    "pycharm": {
     "name": "#%%\n"
    }
   }
  }
 ],
 "metadata": {
  "kernelspec": {
   "display_name": "Python 3 (ipykernel)",
   "language": "python",
   "name": "python3"
  },
  "language_info": {
   "codemirror_mode": {
    "name": "ipython",
    "version": 3
   },
   "file_extension": ".py",
   "mimetype": "text/x-python",
   "name": "python",
   "nbconvert_exporter": "python",
   "pygments_lexer": "ipython3",
   "version": "3.10.3"
  }
 },
 "nbformat": 4,
 "nbformat_minor": 5
}