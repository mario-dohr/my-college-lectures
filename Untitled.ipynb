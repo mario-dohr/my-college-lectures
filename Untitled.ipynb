{
 "cells": [
  {
   "cell_type": "code",
   "execution_count": null,
   "id": "d9088365",
   "metadata": {
    "pycharm": {
     "name": "#%%\n"
    }
   },
   "outputs": [],
   "source": [
    "import win32api, win32con\n",
    "import time\n",
    "def click(x,y):\n",
    "    win32api.SetCursorPos((x,y))\n",
    "    win32api.mouse_event(win32con.MOUSEEVENTF_LEFTDOWN,x,y,0,0)\n",
    "    win32api.mouse_event(win32con.MOUSEEVENTF_LEFTUP,x,y,0,0)\n",
    "print('Start')    \n",
    "for i in range(30):\n",
    "    click(250,250)\n",
    "    print(f'{i} min.')\n",
    "    time.sleep(30)\n",
    "    click(250,250)\n",
    "    print(f'{i} min. + 30 sec.')\n",
    "    time.sleep(30)\n"
   ]
  },
  {
   "cell_type": "code",
   "execution_count": null,
   "id": "e5a0e7c9",
   "metadata": {
    "pycharm": {
     "name": "#%%\n"
    }
   },
   "outputs": [],
   "source": [
    "import numpy as np\n",
    "x_1 = np.array([1,2,2,4,5,6,9,9,9,13])\n",
    "x_2 =np.array([1.41,1.56,2.19,2.79,3.04,2.23,3.74,3.84,2.8,4.18])\n",
    "X = np.vstack((x_1,x_2))\n",
    "X"
   ]
  },
  {
   "cell_type": "code",
   "execution_count": null,
   "id": "ed2ea978",
   "metadata": {
    "pycharm": {
     "name": "#%%\n"
    }
   },
   "outputs": [],
   "source": [
    "import jax.numpy"
   ]
  },
  {
   "cell_type": "code",
   "execution_count": null,
   "id": "cd2ea4e9",
   "metadata": {
    "pycharm": {
     "name": "#%%\n"
    }
   },
   "outputs": [],
   "source": [
    "x_1.mean()\n"
   ]
  },
  {
   "cell_type": "code",
   "execution_count": null,
   "id": "f89aa1d3",
   "metadata": {
    "pycharm": {
     "name": "#%%\n"
    }
   },
   "outputs": [],
   "source": [
    "x_2.mean()"
   ]
  },
  {
   "cell_type": "code",
   "execution_count": null,
   "id": "79aa43e9",
   "metadata": {
    "pycharm": {
     "name": "#%%\n"
    }
   },
   "outputs": [],
   "source": [
    "x_1.std()"
   ]
  },
  {
   "cell_type": "code",
   "execution_count": null,
   "id": "aa27a789",
   "metadata": {
    "pycharm": {
     "name": "#%%\n"
    }
   },
   "outputs": [],
   "source": [
    "x_1.var()"
   ]
  },
  {
   "cell_type": "code",
   "execution_count": null,
   "id": "b3a4396a",
   "metadata": {
    "pycharm": {
     "name": "#%%\n"
    }
   },
   "outputs": [],
   "source": [
    "x_2.var()"
   ]
  },
  {
   "cell_type": "code",
   "execution_count": null,
   "id": "d34f4d82",
   "metadata": {
    "pycharm": {
     "name": "#%%\n"
    }
   },
   "outputs": [],
   "source": [
    "X = np.vstack((x_1 - x_1.mean(),x_2 - x_2.mean()))"
   ]
  },
  {
   "cell_type": "code",
   "execution_count": null,
   "id": "e06a70d4",
   "metadata": {
    "pycharm": {
     "name": "#%%\n"
    }
   },
   "outputs": [],
   "source": [
    "X"
   ]
  },
  {
   "cell_type": "code",
   "execution_count": null,
   "id": "64be55be",
   "metadata": {
    "pycharm": {
     "name": "#%%\n"
    }
   },
   "outputs": [],
   "source": [
    "\n",
    "X.dot(X.T)/10"
   ]
  },
  {
   "cell_type": "code",
   "execution_count": null,
   "id": "60713c2c",
   "metadata": {
    "pycharm": {
     "name": "#%%\n"
    }
   },
   "outputs": [],
   "source": [
    "np.cov()"
   ]
  },
  {
   "cell_type": "code",
   "execution_count": null,
   "id": "8fba7130",
   "metadata": {
    "pycharm": {
     "name": "#%%\n"
    }
   },
   "outputs": [],
   "source": [
    "np.cov(X)\n",
    "\n"
   ]
  },
  {
   "cell_type": "code",
   "execution_count": null,
   "id": "59165529",
   "metadata": {
    "pycharm": {
     "name": "#%%\n"
    }
   },
   "outputs": [],
   "source": [
    "Y = np.vstack((x_1,x_2))"
   ]
  },
  {
   "cell_type": "code",
   "execution_count": null,
   "id": "f466f049",
   "metadata": {
    "pycharm": {
     "name": "#%%\n"
    }
   },
   "outputs": [],
   "source": [
    "np.cov(Y,bias=True)"
   ]
  },
  {
   "cell_type": "code",
   "execution_count": null,
   "id": "a0d631dd",
   "metadata": {
    "pycharm": {
     "name": "#%%\n"
    }
   },
   "outputs": [],
   "source": [
    "X"
   ]
  },
  {
   "cell_type": "code",
   "execution_count": null,
   "id": "d433707c",
   "metadata": {
    "pycharm": {
     "name": "#%%\n"
    }
   },
   "outputs": [],
   "source": [
    "M = X.dot(X.T)"
   ]
  },
  {
   "cell_type": "code",
   "execution_count": null,
   "id": "e44e746f",
   "metadata": {
    "pycharm": {
     "name": "#%%\n"
    }
   },
   "outputs": [],
   "source": [
    "M"
   ]
  },
  {
   "cell_type": "code",
   "execution_count": null,
   "id": "7caacdd0",
   "metadata": {
    "pycharm": {
     "name": "#%%\n"
    }
   },
   "outputs": [],
   "source": [
    "\n",
    "A_1 = np.linalg.matrix_power(M,2)\n",
    "A_2 = np.linalg.matrix_power(M,4)"
   ]
  },
  {
   "cell_type": "code",
   "execution_count": null,
   "id": "00a6362e",
   "metadata": {
    "pycharm": {
     "name": "#%%\n"
    }
   },
   "outputs": [],
   "source": [
    "np.matmul(A_1,A_2)"
   ]
  },
  {
   "cell_type": "code",
   "execution_count": null,
   "id": "a999ca16",
   "metadata": {
    "pycharm": {
     "name": "#%%\n"
    }
   },
   "outputs": [],
   "source": [
    "\n",
    "np.linalg.matrix_power(M,8)"
   ]
  },
  {
   "cell_type": "code",
   "execution_count": null,
   "id": "5283f81b",
   "metadata": {
    "pycharm": {
     "name": "#%%\n"
    }
   },
   "outputs": [],
   "source": [
    "x_1 = np.random.normal(0,1,500)\n",
    "x_2 = np.random.uniform(0,1,500)\n",
    "np.dot(x_1,x_2)/(x_1.var()*x_2.var())"
   ]
  },
  {
   "cell_type": "code",
   "execution_count": null,
   "id": "f3b1bce3",
   "metadata": {
    "pycharm": {
     "name": "#%%\n"
    }
   },
   "outputs": [],
   "source": [
    "A = np.array([[5,2],[3,9]] )\n",
    "B = np.array([[2,0],[0,3]])\n",
    "np.linalg.det(A)"
   ]
  },
  {
   "cell_type": "code",
   "execution_count": null,
   "id": "a642f04f",
   "metadata": {
    "pycharm": {
     "name": "#%%\n"
    }
   },
   "outputs": [],
   "source": [
    "B"
   ]
  },
  {
   "cell_type": "code",
   "execution_count": null,
   "id": "30d4e738",
   "metadata": {
    "pycharm": {
     "name": "#%%\n"
    }
   },
   "outputs": [],
   "source": [
    "C = np.matmul(B,A)\n",
    "C"
   ]
  },
  {
   "cell_type": "code",
   "execution_count": null,
   "id": "90e1ddb0",
   "metadata": {
    "pycharm": {
     "name": "#%%\n"
    }
   },
   "outputs": [],
   "source": [
    "np.linalg.det(C)"
   ]
  },
  {
   "cell_type": "code",
   "execution_count": null,
   "id": "5eea1c06",
   "metadata": {
    "pycharm": {
     "name": "#%%\n"
    }
   },
   "outputs": [],
   "source": []
  }
 ],
 "metadata": {
  "kernelspec": {
   "display_name": "Python 3 (ipykernel)",
   "language": "python",
   "name": "python3"
  },
  "language_info": {
   "codemirror_mode": {
    "name": "ipython",
    "version": 3
   },
   "file_extension": ".py",
   "mimetype": "text/x-python",
   "name": "python",
   "nbconvert_exporter": "python",
   "pygments_lexer": "ipython3",
   "version": "3.10.3"
  }
 },
 "nbformat": 4,
 "nbformat_minor": 5
}