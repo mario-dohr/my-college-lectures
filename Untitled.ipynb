{
 "cells": [
  {
   "cell_type": "code",
   "execution_count": 6,
   "id": "d9088365",
   "metadata": {
    "pycharm": {
     "name": "#%%\n"
    }
   },
   "outputs": [
    {
     "name": "stdout",
     "output_type": "stream",
     "text": [
      "Start\n",
      "0 min.\n",
      "0 min. + 30 sec.\n",
      "1 min.\n",
      "1 min. + 30 sec.\n",
      "2 min.\n",
      "2 min. + 30 sec.\n",
      "3 min.\n",
      "3 min. + 30 sec.\n",
      "4 min.\n",
      "4 min. + 30 sec.\n",
      "5 min.\n",
      "5 min. + 30 sec.\n",
      "6 min.\n",
      "6 min. + 30 sec.\n",
      "7 min.\n",
      "7 min. + 30 sec.\n",
      "8 min.\n",
      "8 min. + 30 sec.\n",
      "9 min.\n",
      "9 min. + 30 sec.\n",
      "10 min.\n",
      "10 min. + 30 sec.\n",
      "11 min.\n",
      "11 min. + 30 sec.\n",
      "12 min.\n",
      "12 min. + 30 sec.\n",
      "13 min.\n",
      "13 min. + 30 sec.\n",
      "14 min.\n",
      "14 min. + 30 sec.\n",
      "15 min.\n",
      "15 min. + 30 sec.\n",
      "16 min.\n",
      "16 min. + 30 sec.\n",
      "17 min.\n",
      "17 min. + 30 sec.\n",
      "18 min.\n",
      "18 min. + 30 sec.\n",
      "19 min.\n",
      "19 min. + 30 sec.\n",
      "20 min.\n",
      "20 min. + 30 sec.\n",
      "21 min.\n",
      "21 min. + 30 sec.\n",
      "22 min.\n",
      "22 min. + 30 sec.\n",
      "23 min.\n",
      "23 min. + 30 sec.\n",
      "24 min.\n",
      "24 min. + 30 sec.\n",
      "25 min.\n",
      "25 min. + 30 sec.\n",
      "26 min.\n",
      "26 min. + 30 sec.\n",
      "27 min.\n",
      "27 min. + 30 sec.\n",
      "28 min.\n",
      "28 min. + 30 sec.\n",
      "29 min.\n",
      "29 min. + 30 sec.\n",
      "30 min.\n",
      "30 min. + 30 sec.\n",
      "31 min.\n",
      "31 min. + 30 sec.\n",
      "32 min.\n",
      "32 min. + 30 sec.\n",
      "33 min.\n",
      "33 min. + 30 sec.\n",
      "34 min.\n",
      "34 min. + 30 sec.\n",
      "35 min.\n",
      "35 min. + 30 sec.\n",
      "36 min.\n",
      "36 min. + 30 sec.\n",
      "37 min.\n",
      "37 min. + 30 sec.\n",
      "38 min.\n",
      "38 min. + 30 sec.\n",
      "39 min.\n",
      "39 min. + 30 sec.\n",
      "40 min.\n",
      "40 min. + 30 sec.\n",
      "41 min.\n",
      "41 min. + 30 sec.\n",
      "42 min.\n",
      "42 min. + 30 sec.\n",
      "43 min.\n",
      "43 min. + 30 sec.\n",
      "44 min.\n",
      "44 min. + 30 sec.\n",
      "45 min.\n",
      "45 min. + 30 sec.\n",
      "46 min.\n",
      "46 min. + 30 sec.\n",
      "47 min.\n",
      "47 min. + 30 sec.\n",
      "48 min.\n",
      "48 min. + 30 sec.\n",
      "49 min.\n",
      "49 min. + 30 sec.\n",
      "50 min.\n",
      "50 min. + 30 sec.\n"
     ]
    },
    {
     "ename": "KeyboardInterrupt",
     "evalue": "",
     "output_type": "error",
     "traceback": [
      "\u001B[1;31m---------------------------------------------------------------------------\u001B[0m",
      "\u001B[1;31mKeyboardInterrupt\u001B[0m                         Traceback (most recent call last)",
      "Input \u001B[1;32mIn [6]\u001B[0m, in \u001B[0;36m<cell line: 8>\u001B[1;34m()\u001B[0m\n\u001B[0;32m     12\u001B[0m click(\u001B[38;5;241m250\u001B[39m,\u001B[38;5;241m250\u001B[39m)\n\u001B[0;32m     13\u001B[0m \u001B[38;5;28mprint\u001B[39m(\u001B[38;5;124mf\u001B[39m\u001B[38;5;124m'\u001B[39m\u001B[38;5;132;01m{\u001B[39;00mi\u001B[38;5;132;01m}\u001B[39;00m\u001B[38;5;124m min. + 30 sec.\u001B[39m\u001B[38;5;124m'\u001B[39m)\n\u001B[1;32m---> 14\u001B[0m \u001B[43mtime\u001B[49m\u001B[38;5;241;43m.\u001B[39;49m\u001B[43msleep\u001B[49m\u001B[43m(\u001B[49m\u001B[38;5;241;43m30\u001B[39;49m\u001B[43m)\u001B[49m\n",
      "\u001B[1;31mKeyboardInterrupt\u001B[0m: "
     ]
    }
   ],
   "source": [
    "import win32api, win32con\n",
    "import time\n",
    "def click(x,y):\n",
    "    win32api.SetCursorPos((x,y))\n",
    "    win32api.mouse_event(win32con.MOUSEEVENTF_LEFTDOWN,x,y,0,0)\n",
    "    win32api.mouse_event(win32con.MOUSEEVENTF_LEFTUP,x,y,0,0)\n",
    "print('Start')    \n",
    "for i in range(60):\n",
    "    click(250,250)\n",
    "    print(f'{i} min.')\n",
    "    time.sleep(30)\n",
    "    click(250,250)\n",
    "    print(f'{i} min. + 30 sec.')\n",
    "    time.sleep(30)\n"
   ]
  },
  {
   "cell_type": "code",
   "execution_count": null,
   "outputs": [],
   "source": [],
   "metadata": {
    "collapsed": false,
    "pycharm": {
     "name": "#%%\n"
    }
   }
  }
 ],
 "metadata": {
  "kernelspec": {
   "display_name": "Python 3 (ipykernel)",
   "language": "python",
   "name": "python3"
  },
  "language_info": {
   "codemirror_mode": {
    "name": "ipython",
    "version": 3
   },
   "file_extension": ".py",
   "mimetype": "text/x-python",
   "name": "python",
   "nbconvert_exporter": "python",
   "pygments_lexer": "ipython3",
   "version": "3.10.3"
  }
 },
 "nbformat": 4,
 "nbformat_minor": 5
}