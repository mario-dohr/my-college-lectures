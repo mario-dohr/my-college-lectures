{
 "cells": [
  {
   "cell_type": "code",
   "execution_count": 6,
   "id": "d9088365",
   "metadata": {
    "pycharm": {
     "name": "#%%\n"
    }
   },
   "outputs": [
    {
     "name": "stdout",
     "output_type": "stream",
     "text": [
      "Start\n",
      "0 min.\n",
      "0 min. + 30 sec.\n",
      "1 min.\n",
      "1 min. + 30 sec.\n",
      "2 min.\n",
      "2 min. + 30 sec.\n",
      "3 min.\n",
      "3 min. + 30 sec.\n",
      "4 min.\n",
      "4 min. + 30 sec.\n",
      "5 min.\n",
      "5 min. + 30 sec.\n",
      "6 min.\n",
      "6 min. + 30 sec.\n",
      "7 min.\n",
      "7 min. + 30 sec.\n",
      "8 min.\n",
      "8 min. + 30 sec.\n",
      "9 min.\n",
      "9 min. + 30 sec.\n",
      "10 min.\n"
     ]
    },
    {
     "ename": "KeyboardInterrupt",
     "evalue": "",
     "output_type": "error",
     "traceback": [
      "\u001B[1;31m---------------------------------------------------------------------------\u001B[0m",
      "\u001B[1;31mKeyboardInterrupt\u001B[0m                         Traceback (most recent call last)",
      "Input \u001B[1;32mIn [6]\u001B[0m, in \u001B[0;36m<cell line: 8>\u001B[1;34m()\u001B[0m\n\u001B[0;32m      9\u001B[0m click(\u001B[38;5;241m250\u001B[39m,\u001B[38;5;241m250\u001B[39m)\n\u001B[0;32m     10\u001B[0m \u001B[38;5;28mprint\u001B[39m(\u001B[38;5;124mf\u001B[39m\u001B[38;5;124m'\u001B[39m\u001B[38;5;132;01m{\u001B[39;00mi\u001B[38;5;132;01m}\u001B[39;00m\u001B[38;5;124m min.\u001B[39m\u001B[38;5;124m'\u001B[39m)\n\u001B[1;32m---> 11\u001B[0m \u001B[43mtime\u001B[49m\u001B[38;5;241;43m.\u001B[39;49m\u001B[43msleep\u001B[49m\u001B[43m(\u001B[49m\u001B[38;5;241;43m30\u001B[39;49m\u001B[43m)\u001B[49m\n\u001B[0;32m     12\u001B[0m click(\u001B[38;5;241m250\u001B[39m,\u001B[38;5;241m250\u001B[39m)\n\u001B[0;32m     13\u001B[0m \u001B[38;5;28mprint\u001B[39m(\u001B[38;5;124mf\u001B[39m\u001B[38;5;124m'\u001B[39m\u001B[38;5;132;01m{\u001B[39;00mi\u001B[38;5;132;01m}\u001B[39;00m\u001B[38;5;124m min. + 30 sec.\u001B[39m\u001B[38;5;124m'\u001B[39m)\n",
      "\u001B[1;31mKeyboardInterrupt\u001B[0m: "
     ]
    }
   ],
   "source": [
    "import win32api, win32con\n",
    "import time\n",
    "def click(x,y):\n",
    "    win32api.SetCursorPos((x,y))\n",
    "    win32api.mouse_event(win32con.MOUSEEVENTF_LEFTDOWN,x,y,0,0)\n",
    "    win32api.mouse_event(win32con.MOUSEEVENTF_LEFTUP,x,y,0,0)\n",
    "print('Start')    \n",
    "for i in range(60):\n",
    "    click(250,250)\n",
    "    print(f'{i} min.')\n",
    "    time.sleep(30)\n",
    "    click(250,250)\n",
    "    print(f'{i} min. + 30 sec.')\n",
    "    time.sleep(30)\n"
   ]
  },
  {
   "cell_type": "code",
   "execution_count": null,
   "outputs": [],
   "source": [],
   "metadata": {
    "collapsed": false,
    "pycharm": {
     "name": "#%%\n"
    }
   }
  }
 ],
 "metadata": {
  "kernelspec": {
   "display_name": "Python 3 (ipykernel)",
   "language": "python",
   "name": "python3"
  },
  "language_info": {
   "codemirror_mode": {
    "name": "ipython",
    "version": 3
   },
   "file_extension": ".py",
   "mimetype": "text/x-python",
   "name": "python",
   "nbconvert_exporter": "python",
   "pygments_lexer": "ipython3",
   "version": "3.10.3"
  }
 },
 "nbformat": 4,
 "nbformat_minor": 5
}